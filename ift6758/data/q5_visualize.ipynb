{
 "cells": [
  {
   "cell_type": "code",
   "execution_count": 2,
   "id": "91de68c0-9983-4801-9434-3c973334e62a",
   "metadata": {},
   "outputs": [],
   "source": [
    "# import json\n",
    "# import pprint\n",
    "import pandas as pd\n",
    "import numpy as np\n",
    "import csv\n",
    "import os\n",
    "import glob\n",
    "import chardet\n",
    "import matplotlib.pyplot as plt\n",
    "\n",
    "extension = 'csv'\n",
    "years = [2016, 2017, 2018, 2019, 2020]\n",
    "# years = [2016]\n",
    "csv_data_path = r\"D:\\Python\\IFT6758\\CSV_data\"\n",
    "visualize_path = r\"D:\\Python\\IFT6758\\Visualize\""
   ]
  },
  {
   "cell_type": "code",
   "execution_count": 19,
   "id": "07f29ab8-ed66-4177-ad40-1121e02b0193",
   "metadata": {},
   "outputs": [],
   "source": [
    "# Check the encoding type\n",
    "# with open(r'D:\\Python\\IFT6758\\CSV_data\\playoffs\\2016\\2016030111.csv', 'rb') as f:\n",
    "#     result = chardet.detect(f.read()) # or readline if the file is large\n",
    "#     print(result['encoding'])\n",
    "       # return ISO-8859-1"
   ]
  },
  {
   "cell_type": "code",
   "execution_count": 3,
   "id": "d65e97ef-cd6f-41b4-810a-6607e0091b28",
   "metadata": {},
   "outputs": [],
   "source": [
    "def combine_csv():\n",
    "    for year in years:\n",
    "        # Combine all .csv files for playoffs\n",
    "        # set working directory for playoffs + year\n",
    "        os.chdir(fr\"{csv_data_path}\\playoffs\\{year}\")\n",
    "\n",
    "        # use glob to match the pattern 'csv'\n",
    "        all_files = [i for i in glob.glob('*.{}'.format(extension))]\n",
    "\n",
    "        # combine all files in the list\n",
    "        # set encoding to 'ISO-8859-1' per the previous catching return\n",
    "        combined_csv = pd.concat([pd.read_csv(f, encoding='ISO-8859-1') for f in all_files])\n",
    "\n",
    "        os.chdir(visualize_path)\n",
    "        combined_csv.to_csv(f\"{year}_playoffs.csv\", index=False, encoding='ISO-8859-1')\n",
    "\n",
    "        # Combine all .csv files for regular_season\n",
    "        # set working directory for regular_season + year\n",
    "        os.chdir(fr\"{csv_data_path}\\regular_season\\{year}\")\n",
    "\n",
    "        # use glob to match the pattern 'csv'\n",
    "        all_files = [i for i in glob.glob('*.{}'.format(extension))]\n",
    "\n",
    "        # combine all files in the list\n",
    "        # set the encoding to 'ISO-8859-1' per the previous catching return\n",
    "        combined_csv = pd.concat([pd.read_csv(f, encoding='ISO-8859-1') for f in all_files])\n",
    "\n",
    "        os.chdir(visualize_path)\n",
    "        combined_csv.to_csv(f\"{year}_regular_season.csv\", index=False, encoding='ISO-8859-1')\n",
    "\n",
    "        # Combine two intermediate .csv files\n",
    "        combine_files = [f\"{year}_playoffs.csv\", f\"{year}_regular_season.csv\"]\n",
    "        combined_csv = pd.concat([pd.read_csv(f, encoding='ISO-8859-1') for f in combine_files])\n",
    "        combined_csv.to_csv(f\"{year}.csv\", index=False, encoding='ISO-8859-1')\n"
   ]
  },
  {
   "cell_type": "code",
   "execution_count": 8,
   "id": "cea4adfa-976e-4e88-82ce-3c0437b4c3d0",
   "metadata": {},
   "outputs": [],
   "source": [
    "# combine_csv()"
   ]
  },
  {
   "cell_type": "code",
   "execution_count": 4,
   "id": "a679c8d4-12ab-46f1-a2b2-9339021153ac",
   "metadata": {},
   "outputs": [],
   "source": [
    "def goal_vs_shot_type():\n",
    "    # Select one year (2018) to analyze the relationship between goal and shot type\n",
    "    df = pd.read_csv(r'D:\\Python\\IFT6758\\Visualize\\2018.csv', encoding='ISO-8859-1')\n",
    "    # df.head(10)\n",
    "\n",
    "    # Group by 'Shot Type' and 'Shot or Goal', add a 'Count' for the sum up\n",
    "    df['Count'] = 1\n",
    "    group_data = df.groupby(['Shot Type', 'Shot or Goal'])['Count'].sum().reset_index(name=\"Count\")\n",
    "    print(group_data)\n",
    "\n",
    "    # Generate the figure for Q5.1\n",
    "    # group_data.pivot(\"Shot Type\",\"Shot or Goal\",\"Count\")[[\"Shot\", \"Goal\"]].plot.bar(stacked=True, color=[\"blue\", \"red\"], legend=False)\n",
    "    group_data.pivot(\"Shot Type\",\"Shot or Goal\",\"Count\")[[\"Shot\", \"Goal\"]].plot.bar(stacked=True, color=[\"red\", \"blue\"], legend=False, width=1)\n"
   ]
  },
  {
   "cell_type": "code",
   "execution_count": 17,
   "id": "18c232ac-25d9-49db-905a-bc5cf74e0db4",
   "metadata": {},
   "outputs": [
    {
     "name": "stdout",
     "output_type": "stream",
     "text": [
      "      Shot Type Shot or Goal  Count\n",
      "0      Backhand         Goal    824\n",
      "1      Backhand         Shot   6171\n",
      "2     Deflected         Goal    264\n",
      "3     Deflected         Shot   1413\n",
      "4     Slap Shot         Goal    783\n",
      "5     Slap Shot         Shot  11458\n",
      "6     Snap Shot         Goal   1213\n",
      "7     Snap Shot         Shot  10750\n",
      "8        Tip-In         Goal    770\n",
      "9        Tip-In         Shot   3728\n",
      "10  Wrap-around         Goal     60\n",
      "11  Wrap-around         Shot    827\n",
      "12   Wrist Shot         Goal   4322\n",
      "13   Wrist Shot         Shot  43287\n"
     ]
    },
    {
     "data": {
      "image/png": "[encoded data removed]",
      "text/plain": [
       "<Figure size 432x288 with 1 Axes>"
      ]
     },
     "metadata": {
      "needs_background": "light"
     },
     "output_type": "display_data"
    }
   ],
   "source": [
    "goal_vs_shot_type()"
   ]
  },
  {
   "cell_type": "code",
   "execution_count": null,
   "id": "a4a6f4a2-a9df-4528-86dd-3ad5e123ac63",
   "metadata": {},
   "outputs": [],
   "source": []
  },
  {
   "cell_type": "code",
   "execution_count": 6,
   "id": "d644ed7f-72e2-4272-a428-b659918b4015",
   "metadata": {},
   "outputs": [
    {
     "name": "stdout",
     "output_type": "stream",
     "text": [
      "   eventIdx           Date & Time  Period Period Time Period Time Remaining  \\\n",
      "0         8  2019-04-10T23:12:20Z       1       00:30                 19:30   \n",
      "1        22  2019-04-10T23:17:35Z       1       03:01                 16:59   \n",
      "2        25  2019-04-10T23:18:45Z       1       04:12                 15:48   \n",
      "3        30  2019-04-10T23:21:27Z       1       06:15                 13:45   \n",
      "4        35  2019-04-10T23:22:21Z       1       07:09                 12:51   \n",
      "5        45  2019-04-10T23:27:13Z       1       09:12                 10:48   \n",
      "6        51  2019-04-10T23:31:15Z       1       10:59                 09:01   \n",
      "7        52  2019-04-10T23:31:23Z       1       11:01                 08:59   \n",
      "8        61  2019-04-10T23:34:25Z       1       12:47                 07:13   \n",
      "9        71  2019-04-10T23:36:48Z       1       13:46                 06:14   \n",
      "\n",
      "  Period Type     Game ID              Team Name Home or Away Shot or Goal  \\\n",
      "0     REGULAR  2018030111  Columbus Blue Jackets         Away         Shot   \n",
      "1     REGULAR  2018030111  Columbus Blue Jackets         Away         Shot   \n",
      "2     REGULAR  2018030111    Tampa Bay Lightning         Home         Goal   \n",
      "3     REGULAR  2018030111    Tampa Bay Lightning         Home         Shot   \n",
      "4     REGULAR  2018030111  Columbus Blue Jackets         Away         Shot   \n",
      "5     REGULAR  2018030111  Columbus Blue Jackets         Away         Shot   \n",
      "6     REGULAR  2018030111    Tampa Bay Lightning         Home         Shot   \n",
      "7     REGULAR  2018030111    Tampa Bay Lightning         Home         Goal   \n",
      "8     REGULAR  2018030111    Tampa Bay Lightning         Home         Shot   \n",
      "9     REGULAR  2018030111    Tampa Bay Lightning         Home         Shot   \n",
      "\n",
      "      X     Y      Shooter Name         Goalie Name      Scorer Name  \\\n",
      "0 -57.0  29.0      Cam Atkinson  Andrei Vasilevskiy              NaN   \n",
      "1 -44.0  18.0      Cam Atkinson  Andrei Vasilevskiy              NaN   \n",
      "2  80.0  -8.0      Cam Atkinson    Sergei Bobrovsky     Alex Killorn   \n",
      "3  73.0   0.0       J.T. Miller    Sergei Bobrovsky              NaN   \n",
      "4  -8.0 -33.0      Ryan Dzingel  Andrei Vasilevskiy              NaN   \n",
      "5 -36.0  18.0  Brandon Dubinsky  Andrei Vasilevskiy              NaN   \n",
      "6  37.0  -5.0       Erik Cernak    Sergei Bobrovsky              NaN   \n",
      "7  70.0   3.0       Erik Cernak    Sergei Bobrovsky  Anthony Cirelli   \n",
      "8  78.0  13.0     Brayden Point    Sergei Bobrovsky              NaN   \n",
      "9  72.0  -7.0   Anthony Cirelli    Sergei Bobrovsky              NaN   \n",
      "\n",
      "    Shot Type  Was Net Empty Goalie Strength   Distance  \n",
      "0  Wrist Shot          False             NaN  43.185646  \n",
      "1  Wrist Shot          False             NaN  48.466483  \n",
      "2    Backhand          False    Short Handed  12.041595  \n",
      "3  Wrist Shot          False             NaN  16.000000  \n",
      "4  Wrist Shot          False             NaN  87.464278  \n",
      "5  Wrist Shot          False             NaN  55.973208  \n",
      "6   Slap Shot          False             NaN  52.239832  \n",
      "7  Wrist Shot          False            Even  19.235384  \n",
      "8    Backhand          False             NaN  17.029386  \n",
      "9      Tip-In          False             NaN  18.384776  \n"
     ]
    },
    {
     "data": {
      "image/png": "[encoded data removed]",
      "text/plain": [
       "<Figure size 432x288 with 1 Axes>"
      ]
     },
     "metadata": {
      "needs_background": "light"
     },
     "output_type": "display_data"
    }
   ],
   "source": [
    "# analyze the relationship between goal and distance\n",
    "def goal_vs_distance():\n",
    "    # analyze the relationship between goal and distance\n",
    "    \"\"\"\n",
    "    X_Left_Net: -89\n",
    "    Y_Left_Net: 0\n",
    "    X_Right_Net: 89\n",
    "    Y_Right_Net: 0\n",
    "    \"\"\"\n",
    "    # home: right\n",
    "\n",
    "    # Select three years (2018, 2019, 2020) to analyze\n",
    "    # year 2018\n",
    "    df = pd.read_csv(r'D:\\Python\\IFT6758\\Visualize\\2018.csv', encoding='ISO-8859-1')\n",
    "\n",
    "    # Simplify column name\n",
    "    df = df.rename(columns={'X-Coordinate': 'X', 'Y-Coordinate': 'Y'})\n",
    "\n",
    "    # Calculate the distance usind different methods based on X-coordinate\n",
    "    df['Distance'] = np.where(df.X < 0., np.sqrt((df.X + 89.) ** 2 + df.Y ** 2), np.sqrt((df.X - 89.) ** 2 + df.Y ** 2))\n",
    "    print(df.head(10))\n",
    "\n",
    "    # Generate the histogram of chance of goal vs distance\n",
    "    df2 = df.pivot_table(index='Distance', columns='Shot or Goal', aggfunc='size', fill_value=0)\n",
    "    bin_range = range(0, int(df2.index.max())+1, 10)\n",
    "    df3 = df2.groupby(pd.cut(df2.index, bins=bin_range)).sum()\n",
    "    df3['Goal'].div(df3.sum(1)).plot.bar(width=1)\n",
    "\n",
    "goal_vs_distance()"
   ]
  },
  {
   "cell_type": "code",
   "execution_count": null,
   "id": "ac99da9d-c818-4fbe-b024-cc73b7a352fa",
   "metadata": {},
   "outputs": [],
   "source": []
  },
  {
   "cell_type": "code",
   "execution_count": null,
   "id": "c9ccc12f-b3f0-4082-916e-5d109fa1c7ad",
   "metadata": {},
   "outputs": [],
   "source": []
  },
  {
   "cell_type": "code",
   "execution_count": null,
   "id": "c33a933e-8572-4f8a-aed3-237c0775d084",
   "metadata": {},
   "outputs": [],
   "source": []
  },
  {
   "cell_type": "code",
   "execution_count": null,
   "id": "e810f506-50b7-4fc0-a8c9-c9afc7ad245e",
   "metadata": {},
   "outputs": [],
   "source": []
  },
  {
   "cell_type": "code",
   "execution_count": null,
   "id": "4670e406-6448-4822-805c-b2a9d55f8f32",
   "metadata": {},
   "outputs": [],
   "source": []
  },
  {
   "cell_type": "code",
   "execution_count": null,
   "id": "dc140d5d-5748-4343-943d-f8628bf986fe",
   "metadata": {},
   "outputs": [],
   "source": []
  },
  {
   "cell_type": "code",
   "execution_count": null,
   "id": "a4cc87ff-7fd4-43db-85ab-5b81c23eb7e4",
   "metadata": {},
   "outputs": [],
   "source": []
  }
 ],
 "metadata": {
  "kernelspec": {
   "display_name": "ift6758-conda-env",
   "language": "python",
   "name": "ift6758-conda-env"
  },
  "language_info": {
   "codemirror_mode": {
    "name": "ipython",
    "version": 3
   },
   "file_extension": ".py",
   "mimetype": "text/x-python",
   "name": "python",
   "nbconvert_exporter": "python",
   "pygments_lexer": "ipython3",
   "version": "3.8.5"
  }
 },
 "nbformat": 4,
 "nbformat_minor": 5
}
