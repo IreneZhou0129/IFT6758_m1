{
 "cells": [
  {
   "cell_type": "code",
   "execution_count": 2,
   "id": "91de68c0-9983-4801-9434-3c973334e62a",
   "metadata": {},
   "outputs": [],
   "source": [
    "# import json\n",
    "# import pprint\n",
    "import pandas as pd\n",
    "import numpy as np\n",
    "import csv\n",
    "import os\n",
    "import glob\n",
    "import chardet\n",
    "import matplotlib.pyplot as plt\n",
    "\n",
    "extension = 'csv'\n",
    "years = [2016, 2017, 2018, 2019, 2020]\n",
    "# years = [2016]\n",
    "csv_data_path = r\"D:\\Python\\IFT6758\\CSV_data\"\n",
    "visualize_path = r\"D:\\Python\\IFT6758\\Visualize\""
   ]
  },
  {
   "cell_type": "code",
   "execution_count": 19,
   "id": "07f29ab8-ed66-4177-ad40-1121e02b0193",
   "metadata": {},
   "outputs": [],
   "source": [
    "# Check the encoding type\n",
    "# with open(r'D:\\Python\\IFT6758\\CSV_data\\playoffs\\2016\\2016030111.csv', 'rb') as f:\n",
    "#     result = chardet.detect(f.read()) # or readline if the file is large\n",
    "#     print(result['encoding'])\n",
    "       # return ISO-8859-1"
   ]
  },
  {
   "cell_type": "code",
   "execution_count": 3,
   "id": "d65e97ef-cd6f-41b4-810a-6607e0091b28",
   "metadata": {},
   "outputs": [],
   "source": [
    "def combine_csv():\n",
    "    for year in years:\n",
    "        # Combine all .csv files for playoffs\n",
    "        # set working directory for playoffs + year\n",
    "        os.chdir(fr\"{csv_data_path}\\playoffs\\{year}\")\n",
    "\n",
    "        # use glob to match the pattern 'csv'\n",
    "        all_files = [i for i in glob.glob('*.{}'.format(extension))]\n",
    "\n",
    "        # combine all files in the list\n",
    "        # set encoding to 'ISO-8859-1' per the previous catching return\n",
    "        combined_csv = pd.concat([pd.read_csv(f, encoding='ISO-8859-1') for f in all_files])\n",
    "\n",
    "        os.chdir(visualize_path)\n",
    "        combined_csv.to_csv(f\"{year}_playoffs.csv\", index=False, encoding='ISO-8859-1')\n",
    "\n",
    "        # Combine all .csv files for regular_season\n",
    "        # set working directory for regular_season + year\n",
    "        os.chdir(fr\"{csv_data_path}\\regular_season\\{year}\")\n",
    "\n",
    "        # use glob to match the pattern 'csv'\n",
    "        all_files = [i for i in glob.glob('*.{}'.format(extension))]\n",
    "\n",
    "        # combine all files in the list\n",
    "        # set the encoding to 'ISO-8859-1' per the previous catching return\n",
    "        combined_csv = pd.concat([pd.read_csv(f, encoding='ISO-8859-1') for f in all_files])\n",
    "\n",
    "        os.chdir(visualize_path)\n",
    "        combined_csv.to_csv(f\"{year}_regular_season.csv\", index=False, encoding='ISO-8859-1')\n",
    "\n",
    "        # Combine two intermediate .csv files\n",
    "        combine_files = [f\"{year}_playoffs.csv\", f\"{year}_regular_season.csv\"]\n",
    "        combined_csv = pd.concat([pd.read_csv(f, encoding='ISO-8859-1') for f in combine_files])\n",
    "        combined_csv.to_csv(f\"{year}.csv\", index=False, encoding='ISO-8859-1')\n"
   ]
  },
  {
   "cell_type": "code",
   "execution_count": 8,
   "id": "cea4adfa-976e-4e88-82ce-3c0437b4c3d0",
   "metadata": {},
   "outputs": [],
   "source": [
    "# combine_csv()"
   ]
  },
  {
   "cell_type": "code",
   "execution_count": 4,
   "id": "a679c8d4-12ab-46f1-a2b2-9339021153ac",
   "metadata": {},
   "outputs": [],
   "source": [
    "def goal_vs_shot_type():\n",
    "    # Select one year (2018) to analyze the relationship between goal and shot type\n",
    "    df = pd.read_csv(r'D:\\Python\\IFT6758\\Visualize\\2018.csv', encoding='ISO-8859-1')\n",
    "    # df.head(10)\n",
    "\n",
    "    # Group by 'Shot Type' and 'Shot or Goal', add a 'Count' for the sum up\n",
    "    df['Count'] = 1\n",
    "    group_data = df.groupby(['Shot Type', 'Shot or Goal'])['Count'].sum().reset_index(name=\"Count\")\n",
    "    print(group_data)\n",
    "\n",
    "    # Generate the figure for Q5.1\n",
    "    # group_data.pivot(\"Shot Type\",\"Shot or Goal\",\"Count\")[[\"Shot\", \"Goal\"]].plot.bar(stacked=True, color=[\"blue\", \"red\"], legend=False)\n",
    "    group_data.pivot(\"Shot Type\",\"Shot or Goal\",\"Count\")[[\"Shot\", \"Goal\"]].plot.bar(stacked=True, color=[\"red\", \"blue\"], legend=False, width=1)\n"
   ]
  },
  {
   "cell_type": "code",
   "execution_count": 17,
   "id": "18c232ac-25d9-49db-905a-bc5cf74e0db4",
   "metadata": {},
   "outputs": [
    {
     "name": "stdout",
     "output_type": "stream",
     "text": [
      "      Shot Type Shot or Goal  Count\n",
      "0      Backhand         Goal    824\n",
      "1      Backhand         Shot   6171\n",
      "2     Deflected         Goal    264\n",
      "3     Deflected         Shot   1413\n",
      "4     Slap Shot         Goal    783\n",
      "5     Slap Shot         Shot  11458\n",
      "6     Snap Shot         Goal   1213\n",
      "7     Snap Shot         Shot  10750\n",
      "8        Tip-In         Goal    770\n",
      "9        Tip-In         Shot   3728\n",
      "10  Wrap-around         Goal     60\n",
      "11  Wrap-around         Shot    827\n",
      "12   Wrist Shot         Goal   4322\n",
      "13   Wrist Shot         Shot  43287\n"
     ]
    },
    {
     "data": {
      "image/png": "[encoded data removed]",
      "text/plain": [
       "<Figure size 432x288 with 1 Axes>"
      ]
     },
     "metadata": {
      "needs_background": "light"
     },
     "output_type": "display_data"
    }
   ],
   "source": [
    "goal_vs_shot_type()"
   ]
  },
  {
   "cell_type": "code",
   "execution_count": null,
   "id": "a4a6f4a2-a9df-4528-86dd-3ad5e123ac63",
   "metadata": {},
   "outputs": [],
   "source": []
  },
  {
   "cell_type": "code",
   "execution_count": 34,
   "id": "d644ed7f-72e2-4272-a428-b659918b4015",
   "metadata": {},
   "outputs": [],
   "source": [
    "# analyze the relationship between goal and distance\n",
    "def goal_vs_distance(year):\n",
    "    # Select three years (2018, 2019, 2020) to analyze\n",
    "    # year 2018\n",
    "    df = pd.read_csv(fr'D:\\Python\\IFT6758\\Visualize\\{year}.csv', encoding='ISO-8859-1')\n",
    "\n",
    "    # Simplify column name\n",
    "    df = df.rename(columns={'X-Coordinate': 'X', 'Y-Coordinate': 'Y', 'Home or Away': 'Home'})\n",
    "\n",
    "    # Calculate Distance\n",
    "    # df['Distance'] = np.where((df.Home=='Home') ^ (df.Period%2==1), np.sqrt((df.X + 89.) ** 2 + df.Y ** 2), np.sqrt((df.X - 89.) ** 2 + df.Y ** 2))\n",
    "    # df['Distance'] = np.where(df.X < 0., np.sqrt((df.X + 89.) ** 2 + df.Y ** 2), np.sqrt((df.X - 89.) ** 2 + df.Y ** 2))\n",
    "    \"\"\"\n",
    "    X_Left_Net: -89\n",
    "    Y_Left_Net: 0\n",
    "    X_Right_Net: 89\n",
    "    Y_Right_Net: 0\n",
    "    \"\"\"\n",
    "    home, p_odd = df.Home == 'Home', df.Period % 2 ==1\n",
    "    condition=[home&p_odd, home&~p_odd, ~home&p_odd]\n",
    "    # if Home and odd period, Net is left\n",
    "    choices = [np.sqrt((df.X+89.)**2 + df.Y**2), np.sqrt((df.X-89.)**2 + df.Y**2), np.sqrt((df.X+89.)**2 + df.Y**2)]\n",
    "    df['Distance']=np.select(condition, choices, np.sqrt((df.X-89.)**2 + df.Y**2))\n",
    "    print(df.head(2))\n",
    "\n",
    "    # Generate the histogram of chance of goal vs distance\n",
    "    df2 = df.pivot_table(index='Distance', columns='Shot or Goal', aggfunc='size', fill_value=0)\n",
    "    bin_range = range(0, int(df2.index.max())+1, 10)\n",
    "    df3 = df2.groupby(pd.cut(df2.index, bins=bin_range)).sum()\n",
    "    df3['Goal'].div(df3.sum(1)).plot.bar(width=1)\n"
   ]
  },
  {
   "cell_type": "code",
   "execution_count": 35,
   "id": "a8874f34-6bc7-4b90-8b39-12d0981a5075",
   "metadata": {},
   "outputs": [
    {
     "name": "stdout",
     "output_type": "stream",
     "text": [
      "   eventIdx           Date & Time  Period Period Time Period Time Remaining  \\\n",
      "0         8  2019-04-10T23:12:20Z       1       00:30                 19:30   \n",
      "1        22  2019-04-10T23:17:35Z       1       03:01                 16:59   \n",
      "\n",
      "  Period Type     Game ID              Team Name  Home Shot or Goal     X  \\\n",
      "0     REGULAR  2018030111  Columbus Blue Jackets  Away         Shot -57.0   \n",
      "1     REGULAR  2018030111  Columbus Blue Jackets  Away         Shot -44.0   \n",
      "\n",
      "      Y  Shooter Name         Goalie Name Scorer Name   Shot Type  \\\n",
      "0  29.0  Cam Atkinson  Andrei Vasilevskiy         NaN  Wrist Shot   \n",
      "1  18.0  Cam Atkinson  Andrei Vasilevskiy         NaN  Wrist Shot   \n",
      "\n",
      "   Was Net Empty Goalie Strength   Distance  \n",
      "0          False             NaN  43.185646  \n",
      "1          False             NaN  48.466483  \n"
     ]
    },
    {
     "data": {
      "image/png": "[encoded data removed]",
      "text/plain": [
       "<Figure size 432x288 with 1 Axes>"
      ]
     },
     "metadata": {
      "needs_background": "light"
     },
     "output_type": "display_data"
    }
   ],
   "source": [
    "goal_vs_distance(2018)"
   ]
  },
  {
   "cell_type": "code",
   "execution_count": 36,
   "id": "6208bc25-e341-4339-a894-ca8d0d8e385e",
   "metadata": {},
   "outputs": [
    {
     "name": "stdout",
     "output_type": "stream",
     "text": [
      "   eventIdx           Date & Time  Period Period Time Period Time Remaining  \\\n",
      "0        19  2020-08-13T00:13:36Z       1       02:18                 17:42   \n",
      "1        29  2020-08-13T00:16:25Z       1       04:15                 15:45   \n",
      "\n",
      "  Period Type     Game ID            Team Name  Home Shot or Goal     X     Y  \\\n",
      "0     REGULAR  2019030111  Philadelphia Flyers  Home         Shot -56.0  -5.0   \n",
      "1     REGULAR  2019030111  MontrÃ©al Canadiens  Away         Shot  54.0 -26.0   \n",
      "\n",
      "     Shooter Name  Goalie Name Scorer Name   Shot Type  Was Net Empty  \\\n",
      "0  Sean Couturier  Carey Price         NaN   Snap Shot          False   \n",
      "1      Joel Armia  Carter Hart         NaN  Wrist Shot          False   \n",
      "\n",
      "  Goalie Strength    Distance  \n",
      "0             NaN   33.376639  \n",
      "1             NaN  145.344419  \n"
     ]
    },
    {
     "data": {
      "image/png": "[encoded data removed]",
      "text/plain": [
       "<Figure size 432x288 with 1 Axes>"
      ]
     },
     "metadata": {
      "needs_background": "light"
     },
     "output_type": "display_data"
    }
   ],
   "source": [
    "goal_vs_distance(2019)"
   ]
  },
  {
   "cell_type": "code",
   "execution_count": null,
   "id": "546f6712-c304-4d13-b675-013b1572a5f8",
   "metadata": {},
   "outputs": [],
   "source": [
    "goal_vs_distance(2020)"
   ]
  },
  {
   "cell_type": "code",
   "execution_count": null,
   "id": "ac99da9d-c818-4fbe-b024-cc73b7a352fa",
   "metadata": {},
   "outputs": [],
   "source": []
  },
  {
   "cell_type": "code",
   "execution_count": null,
   "id": "c9ccc12f-b3f0-4082-916e-5d109fa1c7ad",
   "metadata": {},
   "outputs": [],
   "source": []
  },
  {
   "cell_type": "code",
   "execution_count": null,
   "id": "c33a933e-8572-4f8a-aed3-237c0775d084",
   "metadata": {},
   "outputs": [],
   "source": []
  },
  {
   "cell_type": "code",
   "execution_count": null,
   "id": "e810f506-50b7-4fc0-a8c9-c9afc7ad245e",
   "metadata": {},
   "outputs": [],
   "source": []
  },
  {
   "cell_type": "code",
   "execution_count": null,
   "id": "4670e406-6448-4822-805c-b2a9d55f8f32",
   "metadata": {},
   "outputs": [],
   "source": []
  },
  {
   "cell_type": "code",
   "execution_count": null,
   "id": "dc140d5d-5748-4343-943d-f8628bf986fe",
   "metadata": {},
   "outputs": [],
   "source": []
  },
  {
   "cell_type": "code",
   "execution_count": null,
   "id": "a4cc87ff-7fd4-43db-85ab-5b81c23eb7e4",
   "metadata": {},
   "outputs": [],
   "source": []
  }
 ],
 "metadata": {
  "kernelspec": {
   "display_name": "ift6758-conda-env",
   "language": "python",
   "name": "ift6758-conda-env"
  },
  "language_info": {
   "codemirror_mode": {
    "name": "ipython",
    "version": 3
   },
   "file_extension": ".py",
   "mimetype": "text/x-python",
   "name": "python",
   "nbconvert_exporter": "python",
   "pygments_lexer": "ipython3",
   "version": "3.8.5"
  }
 },
 "nbformat": 4,
 "nbformat_minor": 5
}
