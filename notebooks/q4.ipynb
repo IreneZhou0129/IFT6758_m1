{
 "cells": [
  {
   "cell_type": "code",
   "execution_count": 2,
   "id": "5198bc6f-8980-4e0d-a403-c84b612d0658",
   "metadata": {},
   "outputs": [],
   "source": [
    "import json\n",
    "import pprint\n",
    "import pandas as pd\n",
    "import csv\n",
    "import os"
   ]
  },
  {
   "cell_type": "code",
   "execution_count": 6,
   "id": "961f13b2-8307-4469-9c41-19430910b761",
   "metadata": {},
   "outputs": [],
   "source": [
    "def q4():\n",
    "    years = [2016, 2017, 2018, 2019, 2020]\n",
    "    game_types = ['regular_season', 'playoffs']\n",
    "    columns = ['eventIdx', 'Date & Time', 'Period', 'Period Time', 'Period Time Remaining', 'Period Type', \n",
    "               'Game ID', 'Team Name', 'Home or Away', 'Shot or Goal', 'X-Coordinate', 'Y-Coordinate', \n",
    "               'Shooter Name', 'Goalie Name', 'Scorer Name', 'Shot Type', 'Was Net Empty', \n",
    "               'Goalie Strength', 'Home Rink Side']\n",
    "\n",
    "    for year in years:\n",
    "        for game_type in game_types:\n",
    "            for file in os.listdir(f'../../JSON_data/{game_type}/{year}'):\n",
    "                if file[-5:] == '.json':\n",
    "                    # Opening JSON file\n",
    "                    f = open(f'../../JSON_data/{game_type}/{year}/{file}')\n",
    "\n",
    "                    game_id = int(file[:-5])\n",
    "\n",
    "                    loaded_json = json.load(f)\n",
    "\n",
    "                    all_plays = loaded_json['liveData']['plays']['allPlays']\n",
    "\n",
    "                    data = []\n",
    "                    \n",
    "                    home_team = loaded_json['gameData']['teams']['home'].get('name')\n",
    "                    \n",
    "                    home_side = 'NA'\n",
    "                    if len(loaded_json['liveData']['linescore']['periods']) > 0:\n",
    "                        home_side = loaded_json['liveData']['linescore']['periods'][0]['home'].get('rinkSide')\n",
    "\n",
    "                    for i in range(len(all_plays)):\n",
    "                        event = all_plays[i]['result']['event']\n",
    "                        if event == 'Shot' or event == 'Goal':\n",
    "                            # pprint.pprint(all_plays[i]['result'])    \n",
    "                            date_time = all_plays[i]['about']['dateTime']\n",
    "\n",
    "                            period = all_plays[i]['about']['period']\n",
    "                            period_time = all_plays[i]['about']['periodTime']\n",
    "                            period_time_remaining = all_plays[i]['about']['periodTimeRemaining']\n",
    "                            period_type = all_plays[i]['about']['periodType']\n",
    "\n",
    "                            team_name = all_plays[i]['team']['name']\n",
    "                            \n",
    "                            if home_team == team_name:\n",
    "                                home_or_away = 'Home'\n",
    "                            else:\n",
    "                                home_or_away = 'Away'\n",
    "\n",
    "                            eventIdx = all_plays[i]['about']['eventIdx']\n",
    "\n",
    "                            coord_x = 'NA'\n",
    "                            coord_y = 'NA'\n",
    "                            if 'coordinates' in all_plays[i]:\n",
    "                                coord_x = all_plays[i]['coordinates'].get('x')\n",
    "                                coord_y = all_plays[i]['coordinates'].get('y')\n",
    "\n",
    "                            shooter_name = 'NA'\n",
    "                            scorer_name = 'NA'\n",
    "                            for player in all_plays[i]['players']:\n",
    "                                if player['playerType'] == 'Shooter':\n",
    "                                    shooter_name = player['player']['fullName']\n",
    "                                elif player['playerType'] == 'Goalie':\n",
    "                                    goalie_name = player['player']['fullName']\n",
    "                                elif player['playerType'] == 'Scorer':\n",
    "                                    scorer_name = player['player']['fullName']   \n",
    "\n",
    "                            shot_type = 'NA'\n",
    "                            if 'secondaryType' in all_plays[i]['result']:\n",
    "                                shot_type = all_plays[i]['result']['secondaryType']\n",
    "\n",
    "                            was_net_empty = False\n",
    "                            goalie_strength = 'NA'\n",
    "                            if event == 'Goal':\n",
    "                                if 'emptyNet' in all_plays[i]['result']:\n",
    "                                    was_net_empty = all_plays[i]['result']['emptyNet']\n",
    "\n",
    "                                goalie_strength = all_plays[i]['result']['strength']['name']   \n",
    "\n",
    "                            row_data = [eventIdx, date_time, period, period_time, period_time_remaining, \n",
    "                                        period_type, game_id, team_name, home_or_away, event, coord_x, coord_y, \n",
    "                                        shooter_name, goalie_name, scorer_name, shot_type, \n",
    "                                        was_net_empty, goalie_strength, home_side]\n",
    "\n",
    "                            data.append(row_data)\n",
    "\n",
    "                # create file path if it doesn't exist\n",
    "                filename = f'../../CSV_data/{game_type}/{year}/{game_id}.csv'\n",
    "                dirname = os.path.dirname(filename)\n",
    "                if not os.path.exists(dirname):\n",
    "                    os.makedirs(dirname)\n",
    "                    \n",
    "                # writing to csv file \n",
    "                with open(filename, 'w+') as csvfile: \n",
    "                    # creating a csv writer object \n",
    "                    csvwriter = csv.writer(csvfile) \n",
    "\n",
    "                    # writing the fields \n",
    "                    csvwriter.writerow(columns) \n",
    "\n",
    "                    # writing the data rows \n",
    "                    csvwriter.writerows(data)"
   ]
  },
  {
   "cell_type": "code",
   "execution_count": 7,
   "id": "eeb7e18d-5688-48b3-8534-687841d69f7a",
   "metadata": {},
   "outputs": [],
   "source": [
    "q4()"
   ]
  },
  {
   "cell_type": "markdown",
   "id": "09a8800a-cda3-4016-8a3c-aca06f171b95",
   "metadata": {},
   "source": [
    "# Question 4.2"
   ]
  },
  {
   "cell_type": "markdown",
   "id": "0f021257-8963-44f1-9061-81d9c5653ad9",
   "metadata": {},
   "source": [
    "We know that the strength of players on the ice starts off being even. So starting off, every event will be at even strength (5 on 5) until a penalty occurs. When a penalty occurs, the strength will change. The team whose player received a penalty will go to the penalty box leaving his team short handed and giving the other team a power play. This changes the strength of the players to 5 on 4. A penalty will last a certain number of minutes depending on the type of penalty. So, the strength of the players will change back to even automatically once the penalty expires, and we can check the game time of every event to know when to change the player strength back. Another possibility is if the team that has a power play scores a goal. Then, the strength will also change back to even."
   ]
  },
  {
   "cell_type": "markdown",
   "id": "05b08b13-ddde-4b57-b81f-14f28ad70301",
   "metadata": {},
   "source": [
    "# Question 4.3"
   ]
  },
  {
   "cell_type": "markdown",
   "id": "90dd7c17-86a3-4298-8bfc-84f8f51a5275",
   "metadata": {},
   "source": [
    "In hockey, a rebound occurs when a puck gets shot and bounces off the frame of the goal post. We can speculate that shots or goals could have came from a rebound by paying attention to the time this event occurred and the previous event that occurred. If the previous event was a shot from the same team and happened within maybe 2 seconds, it is likely that the current shot came off of a rebound.\n",
    "\n",
    "According to the youtube video linked in the instructions, a play off the rush appears to be when a single player is rushing towards the end he is trying to score with defenders trying to chase him to stop him. I don't know anything about hockey but I assume this happens when everyone is on one side of the rink and then possession changes all of a sudden (hence why there are no defenders on their goal side and they are chasing the player rushing). Possessions change when there is a giveaway or takeaway event. So, we can speculate that a players shot or goal came off the rush if the previous event was a giveaway or a takeaway and occurred within a few seconds."
   ]
  }
 ],
 "metadata": {
  "kernelspec": {
   "display_name": "ift6758-conda-env",
   "language": "python",
   "name": "ift6758-conda-env"
  },
  "language_info": {
   "codemirror_mode": {
    "name": "ipython",
    "version": 3
   },
   "file_extension": ".py",
   "mimetype": "text/x-python",
   "name": "python",
   "nbconvert_exporter": "python",
   "pygments_lexer": "ipython3",
   "version": "3.9.7"
  }
 },
 "nbformat": 4,
 "nbformat_minor": 5
}
