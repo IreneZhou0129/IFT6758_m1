{
 "cells": [
  {
   "cell_type": "code",
   "execution_count": 253,
   "id": "f6a41e60-b609-4342-b478-e9f0afb5a3f5",
   "metadata": {},
   "outputs": [],
   "source": [
    "import numpy as np\n",
    "import pandas as pd\n",
    "from sklearn.model_selection import train_test_split\n",
    "from sklearn.linear_model import LogisticRegression\n",
    "from sklearn import metrics\n",
    "import matplotlib.pyplot as plt\n",
    "from sklearn.calibration import calibration_curve, CalibrationDisplay"
   ]
  },
  {
   "cell_type": "code",
   "execution_count": 2,
   "id": "ba669bab-9726-4745-ac76-807892e85152",
   "metadata": {},
   "outputs": [],
   "source": [
    "# Read CSV files\n",
    "dataset = pd.read_csv('/Users/xiaoxinzhou/Documents/IFT6758_M2_CSV_data/all_data.csv')"
   ]
  },
  {
   "cell_type": "code",
   "execution_count": 107,
   "id": "ff49def0-3b8b-48bf-9a7e-8114bcd90f40",
   "metadata": {},
   "outputs": [
    {
     "data": {
      "text/html": [
       "<div>\n",
       "<style scoped>\n",
       "    .dataframe tbody tr th:only-of-type {\n",
       "        vertical-align: middle;\n",
       "    }\n",
       "\n",
       "    .dataframe tbody tr th {\n",
       "        vertical-align: top;\n",
       "    }\n",
       "\n",
       "    .dataframe thead th {\n",
       "        text-align: right;\n",
       "    }\n",
       "</style>\n",
       "<table border=\"1\" class=\"dataframe\">\n",
       "  <thead>\n",
       "    <tr style=\"text-align: right;\">\n",
       "      <th></th>\n",
       "      <th>eventIdx</th>\n",
       "      <th>game_id</th>\n",
       "      <th>Distance from Net</th>\n",
       "      <th>Angle from Net</th>\n",
       "      <th>Is Goal</th>\n",
       "      <th>Is Net Empty</th>\n",
       "    </tr>\n",
       "  </thead>\n",
       "  <tbody>\n",
       "    <tr>\n",
       "      <th>0</th>\n",
       "      <td>5</td>\n",
       "      <td>2015020364</td>\n",
       "      <td>43.829214</td>\n",
       "      <td>27.149682</td>\n",
       "      <td>0</td>\n",
       "      <td>0</td>\n",
       "    </tr>\n",
       "    <tr>\n",
       "      <th>1</th>\n",
       "      <td>12</td>\n",
       "      <td>2015020364</td>\n",
       "      <td>13.416408</td>\n",
       "      <td>26.565051</td>\n",
       "      <td>0</td>\n",
       "      <td>0</td>\n",
       "    </tr>\n",
       "    <tr>\n",
       "      <th>2</th>\n",
       "      <td>13</td>\n",
       "      <td>2015020364</td>\n",
       "      <td>12.369317</td>\n",
       "      <td>-75.963757</td>\n",
       "      <td>0</td>\n",
       "      <td>0</td>\n",
       "    </tr>\n",
       "    <tr>\n",
       "      <th>3</th>\n",
       "      <td>18</td>\n",
       "      <td>2015020364</td>\n",
       "      <td>9.899495</td>\n",
       "      <td>45.000000</td>\n",
       "      <td>0</td>\n",
       "      <td>0</td>\n",
       "    </tr>\n",
       "    <tr>\n",
       "      <th>4</th>\n",
       "      <td>32</td>\n",
       "      <td>2015020364</td>\n",
       "      <td>42.201896</td>\n",
       "      <td>-13.706961</td>\n",
       "      <td>0</td>\n",
       "      <td>0</td>\n",
       "    </tr>\n",
       "  </tbody>\n",
       "</table>\n",
       "</div>"
      ],
      "text/plain": [
       "   eventIdx     game_id  Distance from Net  Angle from Net  Is Goal  \\\n",
       "0         5  2015020364          43.829214       27.149682        0   \n",
       "1        12  2015020364          13.416408       26.565051        0   \n",
       "2        13  2015020364          12.369317      -75.963757        0   \n",
       "3        18  2015020364           9.899495       45.000000        0   \n",
       "4        32  2015020364          42.201896      -13.706961        0   \n",
       "\n",
       "   Is Net Empty  \n",
       "0             0  \n",
       "1             0  \n",
       "2             0  \n",
       "3             0  \n",
       "4             0  "
      ]
     },
     "execution_count": 107,
     "metadata": {},
     "output_type": "execute_result"
    }
   ],
   "source": [
    "dataset.head()"
   ]
  },
  {
   "cell_type": "code",
   "execution_count": 3,
   "id": "1d01b248-1ef3-4fcd-9c68-7174f82aa2e3",
   "metadata": {},
   "outputs": [],
   "source": [
    "# Separate features and labels \n",
    "X = dataset[['eventIdx', 'game_id', 'Distance from Net',\n",
    "             'Angle from Net', 'Is Net Empty']]\n",
    "y = dataset[['Is Goal']]"
   ]
  },
  {
   "cell_type": "code",
   "execution_count": 16,
   "id": "b1e54bbe-e7c7-44c0-aec1-38742284114a",
   "metadata": {},
   "outputs": [
    {
     "name": "stdout",
     "output_type": "stream",
     "text": [
      "Accuracy score is 0.9039567998457138\n"
     ]
    }
   ],
   "source": [
    "# ==========================================================================================\n",
    "# Question 1: \n",
    "# ==========================================================================================\n",
    "def q3_1(X, y):\n",
    "    '''\n",
    "    Using only the 'distance' feature, train a Logistic Regression classifier \n",
    "    with the completely default settings.    \n",
    "    '''\n",
    "    # Create a training and validation split\n",
    "    X_train, X_test, y_train, y_test = train_test_split(X[['Distance from Net']],y,test_size=0.20,random_state=50)\n",
    "\n",
    "    # Logistic regression model fitting\n",
    "    clf = LogisticRegression()\n",
    "    y_train = y_train.values.ravel()\n",
    "    clf.fit(X_train, y_train)\n",
    "\n",
    "    # Predict on validation set\n",
    "    y_pred = clf.predict(X_test)\n",
    "    accuracy = metrics.accuracy_score(y_test, y_pred)\n",
    "    print(f'Accuracy score is {accuracy}')\n",
    "    # Accuracy score is 0.9039567998457138\n",
    "    \n",
    "q3_1(X, y)"
   ]
  },
  {
   "cell_type": "code",
   "execution_count": 278,
   "id": "d53704d1-6c35-48e6-b222-d8bc1a1d09a0",
   "metadata": {
    "tags": []
   },
   "outputs": [
    {
     "data": {
      "text/plain": [
       "array([[0.92323014, 0.07676986],\n",
       "       [0.88364339, 0.11635661],\n",
       "       [0.88192328, 0.11807672],\n",
       "       ...,\n",
       "       [0.90970915, 0.09029085],\n",
       "       [0.85868169, 0.14131831],\n",
       "       [0.8929553 , 0.1070447 ]])"
      ]
     },
     "execution_count": 278,
     "metadata": {},
     "output_type": "execute_result"
    }
   ],
   "source": [
    "# ==========================================================================================\n",
    "# Question 2:\n",
    "# ==========================================================================================\n",
    "def q3_2(X, y, features=['Distance from Net']):\n",
    "    '''\n",
    "     Calculate the probability.\n",
    "     In X_test_pred_proba, the first column is label 0, the second one is label 1.  \n",
    "    '''\n",
    "    # Create a training and validation split\n",
    "    X_train, X_test, y_train, y_test = train_test_split(X[features],y,test_size=0.20,random_state=50)\n",
    "\n",
    "    # Logistic regression model fitting\n",
    "    clf = LogisticRegression()\n",
    "    y_train = y_train.values.ravel()\n",
    "    clf.fit(X_train, y_train)\n",
    "    \n",
    "    # use clf.classes_ to check the order of labels     \n",
    "\n",
    "    # Predict the probability\n",
    "    X_test_pred_proba = clf.predict_proba(X_test)\n",
    "\n",
    "    # print(f'The probabilities on validation set is\\n {X_test_pred_proba}')\n",
    "    \n",
    "    return X_test_pred_proba\n",
    "\n",
    "q3_2(X, y)"
   ]
  },
  {
   "cell_type": "code",
   "execution_count": 279,
   "id": "0f6e4c8b-080f-4d6d-ae9e-c9951137449c",
   "metadata": {},
   "outputs": [
    {
     "data": {
      "text/plain": [
       "array([[0.90745049, 0.09254951],\n",
       "       [0.90561567, 0.09438433],\n",
       "       [0.90556204, 0.09443796],\n",
       "       ...,\n",
       "       [0.90500797, 0.09499203],\n",
       "       [0.90770823, 0.09229177],\n",
       "       [0.90488637, 0.09511363]])"
      ]
     },
     "execution_count": 279,
     "metadata": {},
     "output_type": "execute_result"
    }
   ],
   "source": [
    "q3_2(X,y,features=['Angle from Net'])"
   ]
  },
  {
   "cell_type": "code",
   "execution_count": 7,
   "id": "60658fcb-a37c-46c7-9045-9f5011a4ef78",
   "metadata": {},
   "outputs": [
    {
     "data": {
      "image/png": "[encoded data removed]",
      "text/plain": [
       "<Figure size 432x288 with 1 Axes>"
      ]
     },
     "metadata": {
      "needs_background": "light"
     },
     "output_type": "display_data"
    }
   ],
   "source": [
    "def q3_2_roc(X, y, probs):\n",
    "    # Create a training and validation split\n",
    "    X_train, X_test, y_train, y_test = train_test_split(X[['Distance from Net']],y,test_size=0.20,random_state=50)\n",
    "    is_goal = probs[:,1]\n",
    "\n",
    "    fpr, tpr, threshold = metrics.roc_curve(y_test, is_goal)\n",
    "    roc_auc = metrics.auc(fpr, tpr)\n",
    "\n",
    "    plt.title('Receiver Operating Characteristic')\n",
    "    plt.plot(fpr, tpr, 'b', label = 'AUC = %0.2f' % roc_auc)\n",
    "    plt.legend(loc = 'lower right')\n",
    "    plt.plot([0, 1], [0, 1],'r--')\n",
    "    plt.xlim([0, 1])\n",
    "    plt.ylim([0, 1])\n",
    "    plt.ylabel('True Positive Rate')\n",
    "    plt.xlabel('False Positive Rate')\n",
    "    plt.show()\n",
    "    \n",
    "probs = q3_2(X, y)\n",
    "q3_2_roc(X, y, probs)"
   ]
  },
  {
   "cell_type": "code",
   "execution_count": 280,
   "id": "5975b12f-c628-4eba-9e6f-600e0318f873",
   "metadata": {},
   "outputs": [],
   "source": [
    "def get_percentile(X, y, probs, features=['Distance from Net']):\n",
    "    '''\n",
    "    Return a df that has four columns:\n",
    "        * 'index': index in y_test.\n",
    "        * 'Goal prob': Goal probability.\n",
    "        * 'Is Goal': 0 means not goal; 1 means goal.\n",
    "        * 'Percentile': Calculated percentile, range from 0.00 to 99.99.\n",
    "    The df is sorted by 'Percentile'.\n",
    "    '''\n",
    "    X_train, X_test, y_train, y_test = train_test_split(X[features],y,test_size=0.20,random_state=50)\n",
    "\n",
    "    # Create a df for shot probabilities\n",
    "    probs_df = pd.DataFrame(probs)\n",
    "    probs_df = probs_df.rename(columns={0: \"Not Goal prob\", 1: \"Goal prob\"})\n",
    "\n",
    "    # Concatenate 'Goal Probability' and 'Is Goal' into one df. Each column has values: 0 and 1. \n",
    "    df = pd.concat([probs_df[\"Goal prob\"].reset_index(drop=True),\\\n",
    "                    y_test[\"Is Goal\"].reset_index(drop=True)],axis=1)\n",
    "\n",
    "    # Add 'Percentile' column\n",
    "    percentile_series=df['Goal prob'].rank().apply(lambda x: 100.0*(x-1)/df.shape[0])\n",
    "    df['Percentile'] = percentile_series\n",
    "\n",
    "    # Sort the df by the value of percentile. Min is 0.0000, max is 99.9967\n",
    "    df = df.sort_values(by=['Percentile'])\n",
    "    df = df.reset_index()\n",
    "    \n",
    "    return df"
   ]
  },
  {
   "cell_type": "code",
   "execution_count": 281,
   "id": "beb1630a-7112-4bc5-add1-8ade4a7f4bcd",
   "metadata": {
    "tags": []
   },
   "outputs": [
    {
     "data": {
      "text/html": [
       "<div>\n",
       "<style scoped>\n",
       "    .dataframe tbody tr th:only-of-type {\n",
       "        vertical-align: middle;\n",
       "    }\n",
       "\n",
       "    .dataframe tbody tr th {\n",
       "        vertical-align: top;\n",
       "    }\n",
       "\n",
       "    .dataframe thead th {\n",
       "        text-align: right;\n",
       "    }\n",
       "</style>\n",
       "<table border=\"1\" class=\"dataframe\">\n",
       "  <thead>\n",
       "    <tr style=\"text-align: right;\">\n",
       "      <th></th>\n",
       "      <th>index</th>\n",
       "      <th>Goal prob</th>\n",
       "      <th>Is Goal</th>\n",
       "      <th>Percentile</th>\n",
       "    </tr>\n",
       "  </thead>\n",
       "  <tbody>\n",
       "    <tr>\n",
       "      <th>0</th>\n",
       "      <td>36250</td>\n",
       "      <td>0.005271</td>\n",
       "      <td>0</td>\n",
       "      <td>0.000000</td>\n",
       "    </tr>\n",
       "    <tr>\n",
       "      <th>1</th>\n",
       "      <td>49783</td>\n",
       "      <td>0.005300</td>\n",
       "      <td>0</td>\n",
       "      <td>0.001607</td>\n",
       "    </tr>\n",
       "    <tr>\n",
       "      <th>2</th>\n",
       "      <td>2062</td>\n",
       "      <td>0.005390</td>\n",
       "      <td>0</td>\n",
       "      <td>0.003214</td>\n",
       "    </tr>\n",
       "    <tr>\n",
       "      <th>3</th>\n",
       "      <td>23325</td>\n",
       "      <td>0.005393</td>\n",
       "      <td>1</td>\n",
       "      <td>0.004821</td>\n",
       "    </tr>\n",
       "    <tr>\n",
       "      <th>4</th>\n",
       "      <td>59590</td>\n",
       "      <td>0.005502</td>\n",
       "      <td>1</td>\n",
       "      <td>0.006429</td>\n",
       "    </tr>\n",
       "    <tr>\n",
       "      <th>5</th>\n",
       "      <td>7908</td>\n",
       "      <td>0.005509</td>\n",
       "      <td>0</td>\n",
       "      <td>0.008839</td>\n",
       "    </tr>\n",
       "    <tr>\n",
       "      <th>6</th>\n",
       "      <td>17520</td>\n",
       "      <td>0.005509</td>\n",
       "      <td>0</td>\n",
       "      <td>0.008839</td>\n",
       "    </tr>\n",
       "    <tr>\n",
       "      <th>7</th>\n",
       "      <td>49587</td>\n",
       "      <td>0.005514</td>\n",
       "      <td>0</td>\n",
       "      <td>0.011250</td>\n",
       "    </tr>\n",
       "    <tr>\n",
       "      <th>8</th>\n",
       "      <td>29105</td>\n",
       "      <td>0.005519</td>\n",
       "      <td>1</td>\n",
       "      <td>0.012857</td>\n",
       "    </tr>\n",
       "    <tr>\n",
       "      <th>9</th>\n",
       "      <td>28713</td>\n",
       "      <td>0.005534</td>\n",
       "      <td>0</td>\n",
       "      <td>0.014464</td>\n",
       "    </tr>\n",
       "  </tbody>\n",
       "</table>\n",
       "</div>"
      ],
      "text/plain": [
       "   index  Goal prob  Is Goal  Percentile\n",
       "0  36250   0.005271        0    0.000000\n",
       "1  49783   0.005300        0    0.001607\n",
       "2   2062   0.005390        0    0.003214\n",
       "3  23325   0.005393        1    0.004821\n",
       "4  59590   0.005502        1    0.006429\n",
       "5   7908   0.005509        0    0.008839\n",
       "6  17520   0.005509        0    0.008839\n",
       "7  49587   0.005514        0    0.011250\n",
       "8  29105   0.005519        1    0.012857\n",
       "9  28713   0.005534        0    0.014464"
      ]
     },
     "execution_count": 281,
     "metadata": {},
     "output_type": "execute_result"
    }
   ],
   "source": [
    "perc_df = get_percentile(X, y, probs)\n",
    "perc_df.head(10)"
   ]
  },
  {
   "cell_type": "code",
   "execution_count": 284,
   "id": "76681c97-46e0-40e5-9c41-2b4a189abb61",
   "metadata": {},
   "outputs": [
    {
     "data": {
      "text/html": [
       "<div>\n",
       "<style scoped>\n",
       "    .dataframe tbody tr th:only-of-type {\n",
       "        vertical-align: middle;\n",
       "    }\n",
       "\n",
       "    .dataframe tbody tr th {\n",
       "        vertical-align: top;\n",
       "    }\n",
       "\n",
       "    .dataframe thead th {\n",
       "        text-align: right;\n",
       "    }\n",
       "</style>\n",
       "<table border=\"1\" class=\"dataframe\">\n",
       "  <thead>\n",
       "    <tr style=\"text-align: right;\">\n",
       "      <th></th>\n",
       "      <th>index</th>\n",
       "      <th>Goal prob</th>\n",
       "      <th>Is Goal</th>\n",
       "      <th>Percentile</th>\n",
       "    </tr>\n",
       "  </thead>\n",
       "  <tbody>\n",
       "    <tr>\n",
       "      <th>0</th>\n",
       "      <td>6996</td>\n",
       "      <td>0.089956</td>\n",
       "      <td>0</td>\n",
       "      <td>0.041786</td>\n",
       "    </tr>\n",
       "    <tr>\n",
       "      <th>1</th>\n",
       "      <td>41031</td>\n",
       "      <td>0.089956</td>\n",
       "      <td>0</td>\n",
       "      <td>0.041786</td>\n",
       "    </tr>\n",
       "    <tr>\n",
       "      <th>2</th>\n",
       "      <td>10098</td>\n",
       "      <td>0.089956</td>\n",
       "      <td>1</td>\n",
       "      <td>0.041786</td>\n",
       "    </tr>\n",
       "    <tr>\n",
       "      <th>3</th>\n",
       "      <td>18289</td>\n",
       "      <td>0.089956</td>\n",
       "      <td>0</td>\n",
       "      <td>0.041786</td>\n",
       "    </tr>\n",
       "    <tr>\n",
       "      <th>4</th>\n",
       "      <td>43707</td>\n",
       "      <td>0.089956</td>\n",
       "      <td>0</td>\n",
       "      <td>0.041786</td>\n",
       "    </tr>\n",
       "    <tr>\n",
       "      <th>5</th>\n",
       "      <td>29780</td>\n",
       "      <td>0.089956</td>\n",
       "      <td>0</td>\n",
       "      <td>0.041786</td>\n",
       "    </tr>\n",
       "    <tr>\n",
       "      <th>6</th>\n",
       "      <td>44531</td>\n",
       "      <td>0.089956</td>\n",
       "      <td>0</td>\n",
       "      <td>0.041786</td>\n",
       "    </tr>\n",
       "    <tr>\n",
       "      <th>7</th>\n",
       "      <td>57170</td>\n",
       "      <td>0.089956</td>\n",
       "      <td>0</td>\n",
       "      <td>0.041786</td>\n",
       "    </tr>\n",
       "    <tr>\n",
       "      <th>8</th>\n",
       "      <td>25758</td>\n",
       "      <td>0.089956</td>\n",
       "      <td>0</td>\n",
       "      <td>0.041786</td>\n",
       "    </tr>\n",
       "    <tr>\n",
       "      <th>9</th>\n",
       "      <td>16201</td>\n",
       "      <td>0.089956</td>\n",
       "      <td>0</td>\n",
       "      <td>0.041786</td>\n",
       "    </tr>\n",
       "  </tbody>\n",
       "</table>\n",
       "</div>"
      ],
      "text/plain": [
       "   index  Goal prob  Is Goal  Percentile\n",
       "0   6996   0.089956        0    0.041786\n",
       "1  41031   0.089956        0    0.041786\n",
       "2  10098   0.089956        1    0.041786\n",
       "3  18289   0.089956        0    0.041786\n",
       "4  43707   0.089956        0    0.041786\n",
       "5  29780   0.089956        0    0.041786\n",
       "6  44531   0.089956        0    0.041786\n",
       "7  57170   0.089956        0    0.041786\n",
       "8  25758   0.089956        0    0.041786\n",
       "9  16201   0.089956        0    0.041786"
      ]
     },
     "execution_count": 284,
     "metadata": {},
     "output_type": "execute_result"
    }
   ],
   "source": [
    "angle_probs = q3_2(X,y,features=['Angle from Net'])\n",
    "angle_perc_df = get_percentile(X, y, angle_probs, features=['Angle from Net'])\n",
    "angle_perc_df.head(10)"
   ]
  },
  {
   "cell_type": "code",
   "execution_count": 225,
   "id": "d800f597-ec7b-4140-a347-9392defed214",
   "metadata": {
    "tags": []
   },
   "outputs": [
    {
     "data": {
      "text/html": [
       "<div>\n",
       "<style scoped>\n",
       "    .dataframe tbody tr th:only-of-type {\n",
       "        vertical-align: middle;\n",
       "    }\n",
       "\n",
       "    .dataframe tbody tr th {\n",
       "        vertical-align: top;\n",
       "    }\n",
       "\n",
       "    .dataframe thead th {\n",
       "        text-align: right;\n",
       "    }\n",
       "</style>\n",
       "<table border=\"1\" class=\"dataframe\">\n",
       "  <thead>\n",
       "    <tr style=\"text-align: right;\">\n",
       "      <th></th>\n",
       "      <th>Rate</th>\n",
       "      <th>Percentile</th>\n",
       "    </tr>\n",
       "  </thead>\n",
       "  <tbody>\n",
       "    <tr>\n",
       "      <th>0</th>\n",
       "      <td>6.072289</td>\n",
       "      <td>0</td>\n",
       "    </tr>\n",
       "    <tr>\n",
       "      <th>1</th>\n",
       "      <td>3.530733</td>\n",
       "      <td>10</td>\n",
       "    </tr>\n",
       "    <tr>\n",
       "      <th>2</th>\n",
       "      <td>3.545528</td>\n",
       "      <td>20</td>\n",
       "    </tr>\n",
       "    <tr>\n",
       "      <th>3</th>\n",
       "      <td>4.738510</td>\n",
       "      <td>30</td>\n",
       "    </tr>\n",
       "    <tr>\n",
       "      <th>4</th>\n",
       "      <td>6.247950</td>\n",
       "      <td>40</td>\n",
       "    </tr>\n",
       "    <tr>\n",
       "      <th>5</th>\n",
       "      <td>9.395973</td>\n",
       "      <td>50</td>\n",
       "    </tr>\n",
       "    <tr>\n",
       "      <th>6</th>\n",
       "      <td>12.275641</td>\n",
       "      <td>60</td>\n",
       "    </tr>\n",
       "    <tr>\n",
       "      <th>7</th>\n",
       "      <td>14.777849</td>\n",
       "      <td>70</td>\n",
       "    </tr>\n",
       "    <tr>\n",
       "      <th>8</th>\n",
       "      <td>15.883489</td>\n",
       "      <td>80</td>\n",
       "    </tr>\n",
       "    <tr>\n",
       "      <th>9</th>\n",
       "      <td>19.569754</td>\n",
       "      <td>90</td>\n",
       "    </tr>\n",
       "  </tbody>\n",
       "</table>\n",
       "</div>"
      ],
      "text/plain": [
       "        Rate  Percentile\n",
       "0   6.072289           0\n",
       "1   3.530733          10\n",
       "2   3.545528          20\n",
       "3   4.738510          30\n",
       "4   6.247950          40\n",
       "5   9.395973          50\n",
       "6  12.275641          60\n",
       "7  14.777849          70\n",
       "8  15.883489          80\n",
       "9  19.569754          90"
      ]
     },
     "execution_count": 225,
     "metadata": {},
     "output_type": "execute_result"
    }
   ],
   "source": [
    "def get_rate(df, function_type='goal_rate'):\n",
    "    '''\n",
    "    Divide the sorted df into 10 bins, each two adjacent bins have a difference of 10 on percentile.\n",
    "    As we noticed, the percentile ranges from 0 to 99.99, we set bin range from 0 to 100, \n",
    "    so, there are 10 bins: [0:10], [10:20], ..., [90:100].\n",
    "    Given function type, calculates the corresponding rate. \n",
    "    \n",
    "    :params df: A sorted percentile df, calculated by get_percentile().\n",
    "    :params function_type: Function type. Default value 'goal_rate'. \n",
    "                           Another option is 'cumulative_rate'.\n",
    "    \n",
    "    :return goal_rate_df: A df has shape (10, 2). First column is rate, second column is bin index. \n",
    "    '''\n",
    "    \n",
    "    # In goal_rate function, the list should have a length of 10, \n",
    "    # each item is the goal rate of that bin. \n",
    "    # For example, if there are 5000 records have percentiles between 0 and 10, \n",
    "    # and there are 250 goals, the goal rate is 250/5000=0.05.\n",
    "    # So, rate_list[0] is 0.05\n",
    "    rate_list = []\n",
    "    \n",
    "    # Find total number of goals\n",
    "    total_goals = df['Is Goal'].value_counts()[1]\n",
    "    \n",
    "    cumulative_counts = 0\n",
    "\n",
    "    i = 0\n",
    "    i_list = []\n",
    "    \n",
    "    # 91 is the lower bound of last bin\n",
    "    while i<92:\n",
    "        i_list.append(i)\n",
    "\n",
    "        # current bin size\n",
    "        lower_bound = i\n",
    "        upper_bound = (i+10)\n",
    "\n",
    "        # find all records that have percentiles fall in this range\n",
    "        rows = df[(df['Percentile']>=lower_bound) &\n",
    "                  (df['Percentile']<upper_bound)]\n",
    "        \n",
    "        # count the number of goals\n",
    "        goals = rows['Is Goal'].value_counts()[1]\n",
    "\n",
    "        shots = rows.shape[0]\n",
    "\n",
    "        if function_type == 'goal_rate':\n",
    "            rate = goals/shots\n",
    "            \n",
    "        elif function_type == 'cumulative_rate':\n",
    "            cumulative_counts += goals\n",
    "            rate = (cumulative_counts)/total_goals\n",
    "\n",
    "        rate_list.append(rate)\n",
    "\n",
    "        i+=10\n",
    "\n",
    "    rate_list = [i*100 for i in rate_list]    \n",
    "    \n",
    "    # Combine goal rate list and percentile list into one df\n",
    "    rate_df = pd.DataFrame(list(zip(rate_list, i_list)),\\\n",
    "                                columns=['Rate', 'Percentile'])\n",
    "    \n",
    "    return rate_df\n",
    "\n",
    "goal_rate_df = get_rate(perc_df)\n",
    "goal_rate_df"
   ]
  },
  {
   "cell_type": "code",
   "execution_count": 233,
   "id": "b330a270-e010-4918-abc7-473c5b508c54",
   "metadata": {},
   "outputs": [
    {
     "data": {
      "image/png": "[encoded data removed]",
      "text/plain": [
       "<Figure size 432x288 with 1 Axes>"
      ]
     },
     "metadata": {
      "needs_background": "light"
     },
     "output_type": "display_data"
    }
   ],
   "source": [
    "def plot_baseline_rates(df, x, y, function_type='goal_rate'):\n",
    "    ax = plt.gca()\n",
    "    plt.plot(\n",
    "        df[x],\n",
    "        df[y],\n",
    "    )\n",
    "    ax.set_ylim([0,100])\n",
    "    ax.set_xlim([0,100])\n",
    "    \n",
    "    ax.legend(['Model 1'])\n",
    "    \n",
    "    plt.xlabel('Shot probability model percentile')\n",
    "    \n",
    "    if function_type == 'goal_rate':\n",
    "        plt.title('Goal Rate')\n",
    "        plt.ylabel('Goals/(Shots+Goals) in percentage')\n",
    "    \n",
    "    elif function_type == 'cumulative_rate':\n",
    "        plt.title('Cumulative % of goals')\n",
    "        plt.ylabel('Proportion')        \n",
    "    \n",
    "    plt.show()\n",
    "\n",
    "plot_baseline_rates(goal_rate_df, 'Percentile', 'Rate')"
   ]
  },
  {
   "cell_type": "code",
   "execution_count": 234,
   "id": "bf50e501-a5a7-40b8-9cb0-af01a92ee15f",
   "metadata": {
    "tags": []
   },
   "outputs": [
    {
     "data": {
      "image/png": "[encoded data removed]",
      "text/plain": [
       "<Figure size 432x288 with 1 Axes>"
      ]
     },
     "metadata": {
      "needs_background": "light"
     },
     "output_type": "display_data"
    }
   ],
   "source": [
    "cumulative_rate = get_rate(perc_df, function_type='cumulative_rate') \n",
    "plot_baseline_rates(cumulative_rate, 'Percentile', 'Rate', function_type='cumulative_rate')"
   ]
  },
  {
   "cell_type": "code",
   "execution_count": 232,
   "id": "4a81c77e-bea2-4f41-bfe8-c34788a6f99a",
   "metadata": {},
   "outputs": [
    {
     "data": {
      "text/html": [
       "<div>\n",
       "<style scoped>\n",
       "    .dataframe tbody tr th:only-of-type {\n",
       "        vertical-align: middle;\n",
       "    }\n",
       "\n",
       "    .dataframe tbody tr th {\n",
       "        vertical-align: top;\n",
       "    }\n",
       "\n",
       "    .dataframe thead th {\n",
       "        text-align: right;\n",
       "    }\n",
       "</style>\n",
       "<table border=\"1\" class=\"dataframe\">\n",
       "  <thead>\n",
       "    <tr style=\"text-align: right;\">\n",
       "      <th></th>\n",
       "      <th>Rate</th>\n",
       "      <th>Percentile</th>\n",
       "    </tr>\n",
       "  </thead>\n",
       "  <tbody>\n",
       "    <tr>\n",
       "      <th>0</th>\n",
       "      <td>6.325301</td>\n",
       "      <td>0</td>\n",
       "    </tr>\n",
       "    <tr>\n",
       "      <th>1</th>\n",
       "      <td>10.006693</td>\n",
       "      <td>10</td>\n",
       "    </tr>\n",
       "    <tr>\n",
       "      <th>2</th>\n",
       "      <td>13.688086</td>\n",
       "      <td>20</td>\n",
       "    </tr>\n",
       "    <tr>\n",
       "      <th>3</th>\n",
       "      <td>18.691432</td>\n",
       "      <td>30</td>\n",
       "    </tr>\n",
       "    <tr>\n",
       "      <th>4</th>\n",
       "      <td>25.066934</td>\n",
       "      <td>40</td>\n",
       "    </tr>\n",
       "    <tr>\n",
       "      <th>5</th>\n",
       "      <td>34.906292</td>\n",
       "      <td>50</td>\n",
       "    </tr>\n",
       "    <tr>\n",
       "      <th>6</th>\n",
       "      <td>47.724230</td>\n",
       "      <td>60</td>\n",
       "    </tr>\n",
       "    <tr>\n",
       "      <th>7</th>\n",
       "      <td>63.085676</td>\n",
       "      <td>70</td>\n",
       "    </tr>\n",
       "    <tr>\n",
       "      <th>8</th>\n",
       "      <td>79.601740</td>\n",
       "      <td>80</td>\n",
       "    </tr>\n",
       "    <tr>\n",
       "      <th>9</th>\n",
       "      <td>100.000000</td>\n",
       "      <td>90</td>\n",
       "    </tr>\n",
       "  </tbody>\n",
       "</table>\n",
       "</div>"
      ],
      "text/plain": [
       "         Rate  Percentile\n",
       "0    6.325301           0\n",
       "1   10.006693          10\n",
       "2   13.688086          20\n",
       "3   18.691432          30\n",
       "4   25.066934          40\n",
       "5   34.906292          50\n",
       "6   47.724230          60\n",
       "7   63.085676          70\n",
       "8   79.601740          80\n",
       "9  100.000000          90"
      ]
     },
     "execution_count": 232,
     "metadata": {},
     "output_type": "execute_result"
    }
   ],
   "source": [
    "cumulative_rate"
   ]
  },
  {
   "cell_type": "code",
   "execution_count": 252,
   "id": "2296b4e1-f93c-42a3-a2d0-32afb9e7ed70",
   "metadata": {},
   "outputs": [
    {
     "data": {
      "image/png": "[encoded data removed]",
      "text/plain": [
       "<Figure size 432x288 with 1 Axes>"
      ]
     },
     "metadata": {
      "needs_background": "light"
     },
     "output_type": "display_data"
    }
   ],
   "source": [
    "# reliability diagram\n",
    "def plot_calibration(df):\n",
    "\n",
    "    disp = CalibrationDisplay.from_predictions(df['Is Goal'], df['Goal prob'],n_bins=80)\n",
    "    \n",
    "plot_calibration(perc_df)    "
   ]
  },
  {
   "cell_type": "code",
   "execution_count": 285,
   "id": "aa62a2fc-6765-4ccc-a0b2-56a37f4fdfa1",
   "metadata": {},
   "outputs": [
    {
     "data": {
      "image/png": "[encoded data removed]",
      "text/plain": [
       "<Figure size 432x288 with 1 Axes>"
      ]
     },
     "metadata": {
      "needs_background": "light"
     },
     "output_type": "display_data"
    }
   ],
   "source": [
    "# ==========================================================================================\n",
    "# Question 3:\n",
    "# ==========================================================================================\n",
    "def logistic_reg(X, y, features=['Distance from Net']):\n",
    "    '''\n",
    "    :params features: A list. Possible items are 'Distance from Net', 'Angle from Net', and both.    \n",
    "    '''\n",
    "    #--------------------------------------\n",
    "    # Training model\n",
    "    #--------------------------------------\n",
    "    # Create a training and validation split\n",
    "    X_train, X_test, y_train, y_test = train_test_split(X[features],y,test_size=0.20,random_state=50)\n",
    "    \n",
    "    #--------------------------------------\n",
    "    # Calculate goal probability\n",
    "    #--------------------------------------  \n",
    "    probs = q3_2(X, y, features)\n",
    "    is_goal = probs[:,1]\n",
    "    \n",
    "    #--------------------------------------\n",
    "    # ROC\n",
    "    #--------------------------------------\n",
    "    fpr, tpr, threshold = metrics.roc_curve(y_test, is_goal)\n",
    "    roc_auc = metrics.auc(fpr, tpr)\n",
    "    plt.plot(\n",
    "        fpr, \n",
    "        tpr, \n",
    "        'b', \n",
    "        label = 'AUC = %0.2f' % roc_auc)\n",
    "    \n",
    "\n",
    "    #--------------------------------------\n",
    "    # Goal rate\n",
    "    #--------------------------------------  \n",
    "    perc_df = get_percentile(X, y, probs, features) \n",
    "    goal_rate_df = get_rate(perc_df)\n",
    "    plt.plot(\n",
    "        goal_rate_df['Percentile']/100,\n",
    "        goal_rate_df['Rate']/100,\n",
    "        label = 'Goal rate'\n",
    "    )\n",
    "    \n",
    "    #--------------------------------------\n",
    "    # Cumulative proportion of goals\n",
    "    #--------------------------------------  \n",
    "    cumulative_rate = get_rate(perc_df, function_type='cumulative_rate') \n",
    "    plt.plot(\n",
    "        cumulative_rate['Percentile']/100,\n",
    "        cumulative_rate['Rate']/100,\n",
    "        label = 'Cumulative goal rate'\n",
    "    )\n",
    "    \n",
    "    #--------------------------------------\n",
    "    # Random baseline\n",
    "    #-------------------------------------- \n",
    "    plt.plot(\n",
    "        [0, 1], \n",
    "        [0, 1], \n",
    "        label='Random baseline')\n",
    "    \n",
    "    if len(features)==2:\n",
    "        title = 'Feature: Distance and Angle'\n",
    "    else:\n",
    "        title = features[0]\n",
    "        \n",
    "    plt.title(title)\n",
    "    plt.legend()\n",
    "\n",
    "    \n",
    "distance_only = logistic_reg(X, y)"
   ]
  },
  {
   "cell_type": "code",
   "execution_count": 286,
   "id": "b415659d-c9ec-4595-ad48-28a1714d6803",
   "metadata": {},
   "outputs": [
    {
     "data": {
      "image/png": "[encoded data removed]",
      "text/plain": [
       "<Figure size 432x288 with 1 Axes>"
      ]
     },
     "metadata": {
      "needs_background": "light"
     },
     "output_type": "display_data"
    }
   ],
   "source": [
    "angle_only = logistic_reg(X, y, features=['Angle from Net'])"
   ]
  },
  {
   "cell_type": "code",
   "execution_count": 287,
   "id": "f1863e84-3577-4139-8fef-5fd5ba64ceab",
   "metadata": {},
   "outputs": [
    {
     "data": {
      "image/png": "[encoded data removed]",
      "text/plain": [
       "<Figure size 432x288 with 1 Axes>"
      ]
     },
     "metadata": {
      "needs_background": "light"
     },
     "output_type": "display_data"
    }
   ],
   "source": [
    "both_features = logistic_reg(X, y, features=['Distance from Net', 'Angle from Net'])"
   ]
  },
  {
   "cell_type": "code",
   "execution_count": null,
   "id": "879399de-5c0a-45be-9c38-4a95d90af44e",
   "metadata": {},
   "outputs": [],
   "source": []
  }
 ],
 "metadata": {
  "kernelspec": {
   "display_name": "Python 3 (ipykernel)",
   "language": "python",
   "name": "python3"
  },
  "language_info": {
   "codemirror_mode": {
    "name": "ipython",
    "version": 3
   },
   "file_extension": ".py",
   "mimetype": "text/x-python",
   "name": "python",
   "nbconvert_exporter": "python",
   "pygments_lexer": "ipython3",
   "version": "3.9.7"
  }
 },
 "nbformat": 4,
 "nbformat_minor": 5
}
