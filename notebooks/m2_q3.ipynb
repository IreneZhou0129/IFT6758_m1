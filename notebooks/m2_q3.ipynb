{
 "cells": [
  {
   "cell_type": "code",
   "execution_count": 10,
   "id": "f6a41e60-b609-4342-b478-e9f0afb5a3f5",
   "metadata": {},
   "outputs": [],
   "source": [
    "import numpy as np\n",
    "import pandas as pd\n",
    "from sklearn.model_selection import train_test_split\n",
    "from sklearn.linear_model import LogisticRegression\n",
    "from sklearn import metrics\n",
    "import matplotlib.pyplot as plt\n",
    "from sklearn.calibration import calibration_curve, CalibrationDisplay"
   ]
  },
  {
   "cell_type": "code",
   "execution_count": 11,
   "id": "ba669bab-9726-4745-ac76-807892e85152",
   "metadata": {},
   "outputs": [],
   "source": [
    "# Read CSV files\n",
    "dataset = pd.read_csv('/Users/sunjiaao/Courses/IFT6758/m2_CSV_data/all_data.csv')"
   ]
  },
  {
   "cell_type": "code",
   "execution_count": 12,
   "id": "ff49def0-3b8b-48bf-9a7e-8114bcd90f40",
   "metadata": {},
   "outputs": [
    {
     "data": {
      "text/html": [
       "<div>\n",
       "<style scoped>\n",
       "    .dataframe tbody tr th:only-of-type {\n",
       "        vertical-align: middle;\n",
       "    }\n",
       "\n",
       "    .dataframe tbody tr th {\n",
       "        vertical-align: top;\n",
       "    }\n",
       "\n",
       "    .dataframe thead th {\n",
       "        text-align: right;\n",
       "    }\n",
       "</style>\n",
       "<table border=\"1\" class=\"dataframe\">\n",
       "  <thead>\n",
       "    <tr style=\"text-align: right;\">\n",
       "      <th></th>\n",
       "      <th>eventIdx</th>\n",
       "      <th>game_id</th>\n",
       "      <th>Distance from Net</th>\n",
       "      <th>Angle from Net</th>\n",
       "      <th>Is Goal</th>\n",
       "      <th>Is Net Empty</th>\n",
       "    </tr>\n",
       "  </thead>\n",
       "  <tbody>\n",
       "    <tr>\n",
       "      <th>0</th>\n",
       "      <td>5</td>\n",
       "      <td>2015020364</td>\n",
       "      <td>43.829214</td>\n",
       "      <td>117.149682</td>\n",
       "      <td>0</td>\n",
       "      <td>0</td>\n",
       "    </tr>\n",
       "    <tr>\n",
       "      <th>1</th>\n",
       "      <td>12</td>\n",
       "      <td>2015020364</td>\n",
       "      <td>13.416408</td>\n",
       "      <td>116.565051</td>\n",
       "      <td>0</td>\n",
       "      <td>0</td>\n",
       "    </tr>\n",
       "    <tr>\n",
       "      <th>2</th>\n",
       "      <td>13</td>\n",
       "      <td>2015020364</td>\n",
       "      <td>12.369317</td>\n",
       "      <td>14.036243</td>\n",
       "      <td>0</td>\n",
       "      <td>0</td>\n",
       "    </tr>\n",
       "    <tr>\n",
       "      <th>3</th>\n",
       "      <td>18</td>\n",
       "      <td>2015020364</td>\n",
       "      <td>9.899495</td>\n",
       "      <td>135.000000</td>\n",
       "      <td>0</td>\n",
       "      <td>0</td>\n",
       "    </tr>\n",
       "    <tr>\n",
       "      <th>4</th>\n",
       "      <td>32</td>\n",
       "      <td>2015020364</td>\n",
       "      <td>42.201896</td>\n",
       "      <td>76.293039</td>\n",
       "      <td>0</td>\n",
       "      <td>0</td>\n",
       "    </tr>\n",
       "  </tbody>\n",
       "</table>\n",
       "</div>"
      ],
      "text/plain": [
       "   eventIdx     game_id  Distance from Net  Angle from Net  Is Goal  \\\n",
       "0         5  2015020364          43.829214      117.149682        0   \n",
       "1        12  2015020364          13.416408      116.565051        0   \n",
       "2        13  2015020364          12.369317       14.036243        0   \n",
       "3        18  2015020364           9.899495      135.000000        0   \n",
       "4        32  2015020364          42.201896       76.293039        0   \n",
       "\n",
       "   Is Net Empty  \n",
       "0             0  \n",
       "1             0  \n",
       "2             0  \n",
       "3             0  \n",
       "4             0  "
      ]
     },
     "execution_count": 12,
     "metadata": {},
     "output_type": "execute_result"
    }
   ],
   "source": [
    "dataset.head()"
   ]
  },
  {
   "cell_type": "code",
   "execution_count": null,
   "id": "db4ec7c0-a3b8-44cb-abfb-7518aa063fbd",
   "metadata": {},
   "outputs": [],
   "source": [
    "# Separate features and labels \n",
    "X = dataset[['eventIdx', 'game_id', 'Distance from Net',\n",
    "             'Angle from Net', 'Is Net Empty']]\n",
    "y = dataset[['Is Goal']]"
   ]
  },
  {
   "cell_type": "markdown",
   "id": "fd0d8848-1ee3-454d-ab38-707084850f42",
   "metadata": {},
   "source": [
    "# Question 3.1"
   ]
  },
  {
   "cell_type": "code",
   "execution_count": 14,
   "id": "b1e54bbe-e7c7-44c0-aec1-38742284114a",
   "metadata": {},
   "outputs": [
    {
     "name": "stdout",
     "output_type": "stream",
     "text": [
      "Accuracy score is 0.9039567998457138\n"
     ]
    }
   ],
   "source": [
    "# ==========================================================================================\n",
    "# Question 1: \n",
    "# ==========================================================================================\n",
    "def q3_1(X, y):\n",
    "    '''\n",
    "    Using only the 'distance' feature, train a Logistic Regression classifier \n",
    "    with the completely default settings.    \n",
    "    '''\n",
    "    # Create a training and validation split\n",
    "    X_train, X_test, y_train, y_test = train_test_split(X[['Distance from Net']],y,test_size=0.20,random_state=50)\n",
    "\n",
    "    # Logistic regression model fitting\n",
    "    clf = LogisticRegression()\n",
    "    y_train = y_train.values.ravel()\n",
    "    clf.fit(X_train, y_train)\n",
    "\n",
    "    # Predict on validation set\n",
    "    y_pred = clf.predict(X_test)\n",
    "    accuracy = metrics.accuracy_score(y_test, y_pred)\n",
    "    print(f'Accuracy score is {accuracy}')\n",
    "    # Accuracy score is 0.9039567998457138\n",
    "    \n",
    "q3_1(X, y)"
   ]
  },
  {
   "cell_type": "markdown",
   "id": "52f5e68b-0943-4532-9586-8ae12b750317",
   "metadata": {},
   "source": [
    "# Question 3.2"
   ]
  },
  {
   "cell_type": "code",
   "execution_count": 56,
   "id": "d53704d1-6c35-48e6-b222-d8bc1a1d09a0",
   "metadata": {
    "tags": []
   },
   "outputs": [
    {
     "data": {
      "text/plain": [
       "(array([[0.92323014, 0.07676986],\n",
       "        [0.88364339, 0.11635661],\n",
       "        [0.88192328, 0.11807672],\n",
       "        ...,\n",
       "        [0.90970915, 0.09029085],\n",
       "        [0.85868169, 0.14131831],\n",
       "        [0.8929553 , 0.1070447 ]]),\n",
       "         Is Goal\n",
       " 186160        0\n",
       " 92280         1\n",
       " 25362         0\n",
       " 166358        0\n",
       " 285053        1\n",
       " ...         ...\n",
       " 87639         1\n",
       " 255533        1\n",
       " 258419        0\n",
       " 191635        1\n",
       " 173237        0\n",
       " \n",
       " [62222 rows x 1 columns])"
      ]
     },
     "execution_count": 56,
     "metadata": {},
     "output_type": "execute_result"
    }
   ],
   "source": [
    "# ==========================================================================================\n",
    "# Question 3.2:\n",
    "# ==========================================================================================\n",
    "def q3_2(X, y, features=['Distance from Net']):\n",
    "    '''\n",
    "     Calculate the probability.\n",
    "     In X_test_pred_proba, the first column is label 0, the second one is label 1.  \n",
    "    '''\n",
    "    # Create a training and validation split\n",
    "    X_train, X_test, y_train, y_test = train_test_split(X[features],y,test_size=0.20,random_state=50)\n",
    "\n",
    "    # Logistic regression model fitting\n",
    "    clf = LogisticRegression()\n",
    "    y_train = y_train.values.ravel()\n",
    "    clf.fit(X_train, y_train)\n",
    "    \n",
    "    # use clf.classes_ to check the order of labels     \n",
    "\n",
    "    # Predict the probability\n",
    "    X_test_pred_proba = clf.predict_proba(X_test)\n",
    "\n",
    "    # print(f'The probabilities on validation set is\\n {X_test_pred_proba}')\n",
    "    \n",
    "    return X_test_pred_proba, y_test\n",
    "\n",
    "q3_2(X, y)"
   ]
  },
  {
   "cell_type": "code",
   "execution_count": 16,
   "id": "0f6e4c8b-080f-4d6d-ae9e-c9951137449c",
   "metadata": {},
   "outputs": [
    {
     "data": {
      "text/plain": [
       "array([[0.90724237, 0.09275763],\n",
       "       [0.90747101, 0.09252899],\n",
       "       [0.90601478, 0.09398522],\n",
       "       ...,\n",
       "       [0.90785768, 0.09214232],\n",
       "       [0.90611084, 0.09388916],\n",
       "       [0.90793462, 0.09206538]])"
      ]
     },
     "execution_count": 16,
     "metadata": {},
     "output_type": "execute_result"
    }
   ],
   "source": [
    "q3_2(X,y,features=['Angle from Net'])"
   ]
  },
  {
   "cell_type": "code",
   "execution_count": 17,
   "id": "60658fcb-a37c-46c7-9045-9f5011a4ef78",
   "metadata": {
    "tags": []
   },
   "outputs": [
    {
     "data": {
      "image/png": "[encoded data removed]",
      "text/plain": [
       "<Figure size 432x288 with 1 Axes>"
      ]
     },
     "metadata": {
      "needs_background": "light"
     },
     "output_type": "display_data"
    }
   ],
   "source": [
    "def q3_2_roc(X, y, probs):\n",
    "#     https://stackoverflow.com/questions/25009284/how-to-plot-roc-curve-in-python\n",
    "    # Create a training and validation split\n",
    "    X_train, X_test, y_train, y_test = train_test_split(X[['Distance from Net']],y,test_size=0.20,random_state=50)\n",
    "    is_goal = probs[:,1]\n",
    "\n",
    "    fpr, tpr, threshold = metrics.roc_curve(y_test, is_goal)\n",
    "    roc_auc = metrics.auc(fpr, tpr)\n",
    "\n",
    "    plt.title('Receiver Operating Characteristic')\n",
    "    plt.plot(fpr, tpr, 'b', label = 'AUC = %0.2f' % roc_auc)\n",
    "    plt.legend(loc = 'lower right')\n",
    "    plt.plot([0, 1], [0, 1],'r--')\n",
    "    plt.xlim([0, 1])\n",
    "    plt.ylim([0, 1])\n",
    "    plt.ylabel('True Positive Rate')\n",
    "    plt.xlabel('False Positive Rate')\n",
    "    plt.show()\n",
    "    \n",
    "probs = q3_2(X, y)\n",
    "q3_2_roc(X, y, probs)"
   ]
  },
  {
   "cell_type": "code",
   "execution_count": 18,
   "id": "5975b12f-c628-4eba-9e6f-600e0318f873",
   "metadata": {},
   "outputs": [],
   "source": [
    "def get_percentile(X, y, probs, features=['Distance from Net']):\n",
    "    '''\n",
    "    Return a df that has four columns:\n",
    "        * 'index': index in y_test.\n",
    "        * 'Goal prob': Goal probability.\n",
    "        * 'Is Goal': 0 means not goal; 1 means goal.\n",
    "        * 'Percentile': Calculated percentile, range from 0.00 to 99.99.\n",
    "    The df is sorted by 'Percentile'.\n",
    "    '''\n",
    "    X_train, X_test, y_train, y_test = train_test_split(X[features],y,test_size=0.20,random_state=50)\n",
    "\n",
    "    # Create a df for shot probabilities\n",
    "    probs_df = pd.DataFrame(probs)\n",
    "    probs_df = probs_df.rename(columns={0: \"Not Goal prob\", 1: \"Goal prob\"})\n",
    "\n",
    "    # Concatenate 'Goal Probability' and 'Is Goal' into one df. Each column has values: 0 and 1. \n",
    "    df = pd.concat([probs_df[\"Goal prob\"].reset_index(drop=True),\\\n",
    "                    y_test[\"Is Goal\"].reset_index(drop=True)],axis=1)\n",
    "\n",
    "    # Add 'Percentile' column\n",
    "    percentile_series=df['Goal prob'].rank().apply(lambda x: 100.0*(x-1)/df.shape[0])\n",
    "    df['Percentile'] = percentile_series\n",
    "\n",
    "    # Sort the df by the value of percentile. Min is 0.0000, max is 99.9967\n",
    "    df = df.sort_values(by=['Percentile'])\n",
    "    df = df.reset_index()\n",
    "    \n",
    "    return df"
   ]
  },
  {
   "cell_type": "code",
   "execution_count": 19,
   "id": "beb1630a-7112-4bc5-add1-8ade4a7f4bcd",
   "metadata": {
    "tags": []
   },
   "outputs": [
    {
     "data": {
      "text/html": [
       "<div>\n",
       "<style scoped>\n",
       "    .dataframe tbody tr th:only-of-type {\n",
       "        vertical-align: middle;\n",
       "    }\n",
       "\n",
       "    .dataframe tbody tr th {\n",
       "        vertical-align: top;\n",
       "    }\n",
       "\n",
       "    .dataframe thead th {\n",
       "        text-align: right;\n",
       "    }\n",
       "</style>\n",
       "<table border=\"1\" class=\"dataframe\">\n",
       "  <thead>\n",
       "    <tr style=\"text-align: right;\">\n",
       "      <th></th>\n",
       "      <th>index</th>\n",
       "      <th>Goal prob</th>\n",
       "      <th>Is Goal</th>\n",
       "      <th>Percentile</th>\n",
       "    </tr>\n",
       "  </thead>\n",
       "  <tbody>\n",
       "    <tr>\n",
       "      <th>0</th>\n",
       "      <td>36250</td>\n",
       "      <td>0.005271</td>\n",
       "      <td>0</td>\n",
       "      <td>0.000000</td>\n",
       "    </tr>\n",
       "    <tr>\n",
       "      <th>1</th>\n",
       "      <td>49783</td>\n",
       "      <td>0.005300</td>\n",
       "      <td>0</td>\n",
       "      <td>0.001607</td>\n",
       "    </tr>\n",
       "    <tr>\n",
       "      <th>2</th>\n",
       "      <td>2062</td>\n",
       "      <td>0.005390</td>\n",
       "      <td>0</td>\n",
       "      <td>0.003214</td>\n",
       "    </tr>\n",
       "    <tr>\n",
       "      <th>3</th>\n",
       "      <td>23325</td>\n",
       "      <td>0.005393</td>\n",
       "      <td>1</td>\n",
       "      <td>0.004821</td>\n",
       "    </tr>\n",
       "    <tr>\n",
       "      <th>4</th>\n",
       "      <td>59590</td>\n",
       "      <td>0.005502</td>\n",
       "      <td>1</td>\n",
       "      <td>0.006429</td>\n",
       "    </tr>\n",
       "    <tr>\n",
       "      <th>5</th>\n",
       "      <td>7908</td>\n",
       "      <td>0.005509</td>\n",
       "      <td>0</td>\n",
       "      <td>0.008839</td>\n",
       "    </tr>\n",
       "    <tr>\n",
       "      <th>6</th>\n",
       "      <td>17520</td>\n",
       "      <td>0.005509</td>\n",
       "      <td>0</td>\n",
       "      <td>0.008839</td>\n",
       "    </tr>\n",
       "    <tr>\n",
       "      <th>7</th>\n",
       "      <td>49587</td>\n",
       "      <td>0.005514</td>\n",
       "      <td>0</td>\n",
       "      <td>0.011250</td>\n",
       "    </tr>\n",
       "    <tr>\n",
       "      <th>8</th>\n",
       "      <td>29105</td>\n",
       "      <td>0.005519</td>\n",
       "      <td>1</td>\n",
       "      <td>0.012857</td>\n",
       "    </tr>\n",
       "    <tr>\n",
       "      <th>9</th>\n",
       "      <td>28713</td>\n",
       "      <td>0.005534</td>\n",
       "      <td>0</td>\n",
       "      <td>0.014464</td>\n",
       "    </tr>\n",
       "  </tbody>\n",
       "</table>\n",
       "</div>"
      ],
      "text/plain": [
       "   index  Goal prob  Is Goal  Percentile\n",
       "0  36250   0.005271        0    0.000000\n",
       "1  49783   0.005300        0    0.001607\n",
       "2   2062   0.005390        0    0.003214\n",
       "3  23325   0.005393        1    0.004821\n",
       "4  59590   0.005502        1    0.006429\n",
       "5   7908   0.005509        0    0.008839\n",
       "6  17520   0.005509        0    0.008839\n",
       "7  49587   0.005514        0    0.011250\n",
       "8  29105   0.005519        1    0.012857\n",
       "9  28713   0.005534        0    0.014464"
      ]
     },
     "execution_count": 19,
     "metadata": {},
     "output_type": "execute_result"
    }
   ],
   "source": [
    "perc_df = get_percentile(X, y, probs)\n",
    "perc_df.head(10)"
   ]
  },
  {
   "cell_type": "code",
   "execution_count": 20,
   "id": "76681c97-46e0-40e5-9c41-2b4a189abb61",
   "metadata": {
    "tags": []
   },
   "outputs": [
    {
     "data": {
      "text/html": [
       "<div>\n",
       "<style scoped>\n",
       "    .dataframe tbody tr th:only-of-type {\n",
       "        vertical-align: middle;\n",
       "    }\n",
       "\n",
       "    .dataframe tbody tr th {\n",
       "        vertical-align: top;\n",
       "    }\n",
       "\n",
       "    .dataframe thead th {\n",
       "        text-align: right;\n",
       "    }\n",
       "</style>\n",
       "<table border=\"1\" class=\"dataframe\">\n",
       "  <thead>\n",
       "    <tr style=\"text-align: right;\">\n",
       "      <th></th>\n",
       "      <th>index</th>\n",
       "      <th>Goal prob</th>\n",
       "      <th>Is Goal</th>\n",
       "      <th>Percentile</th>\n",
       "    </tr>\n",
       "  </thead>\n",
       "  <tbody>\n",
       "    <tr>\n",
       "      <th>0</th>\n",
       "      <td>20205</td>\n",
       "      <td>0.091059</td>\n",
       "      <td>0</td>\n",
       "      <td>0.03375</td>\n",
       "    </tr>\n",
       "    <tr>\n",
       "      <th>1</th>\n",
       "      <td>55967</td>\n",
       "      <td>0.091059</td>\n",
       "      <td>0</td>\n",
       "      <td>0.03375</td>\n",
       "    </tr>\n",
       "    <tr>\n",
       "      <th>2</th>\n",
       "      <td>57170</td>\n",
       "      <td>0.091059</td>\n",
       "      <td>0</td>\n",
       "      <td>0.03375</td>\n",
       "    </tr>\n",
       "    <tr>\n",
       "      <th>3</th>\n",
       "      <td>61582</td>\n",
       "      <td>0.091059</td>\n",
       "      <td>0</td>\n",
       "      <td>0.03375</td>\n",
       "    </tr>\n",
       "    <tr>\n",
       "      <th>4</th>\n",
       "      <td>5412</td>\n",
       "      <td>0.091059</td>\n",
       "      <td>0</td>\n",
       "      <td>0.03375</td>\n",
       "    </tr>\n",
       "    <tr>\n",
       "      <th>5</th>\n",
       "      <td>14097</td>\n",
       "      <td>0.091059</td>\n",
       "      <td>0</td>\n",
       "      <td>0.03375</td>\n",
       "    </tr>\n",
       "    <tr>\n",
       "      <th>6</th>\n",
       "      <td>1513</td>\n",
       "      <td>0.091059</td>\n",
       "      <td>0</td>\n",
       "      <td>0.03375</td>\n",
       "    </tr>\n",
       "    <tr>\n",
       "      <th>7</th>\n",
       "      <td>3702</td>\n",
       "      <td>0.091059</td>\n",
       "      <td>0</td>\n",
       "      <td>0.03375</td>\n",
       "    </tr>\n",
       "    <tr>\n",
       "      <th>8</th>\n",
       "      <td>7297</td>\n",
       "      <td>0.091059</td>\n",
       "      <td>1</td>\n",
       "      <td>0.03375</td>\n",
       "    </tr>\n",
       "    <tr>\n",
       "      <th>9</th>\n",
       "      <td>41031</td>\n",
       "      <td>0.091059</td>\n",
       "      <td>0</td>\n",
       "      <td>0.03375</td>\n",
       "    </tr>\n",
       "  </tbody>\n",
       "</table>\n",
       "</div>"
      ],
      "text/plain": [
       "   index  Goal prob  Is Goal  Percentile\n",
       "0  20205   0.091059        0     0.03375\n",
       "1  55967   0.091059        0     0.03375\n",
       "2  57170   0.091059        0     0.03375\n",
       "3  61582   0.091059        0     0.03375\n",
       "4   5412   0.091059        0     0.03375\n",
       "5  14097   0.091059        0     0.03375\n",
       "6   1513   0.091059        0     0.03375\n",
       "7   3702   0.091059        0     0.03375\n",
       "8   7297   0.091059        1     0.03375\n",
       "9  41031   0.091059        0     0.03375"
      ]
     },
     "execution_count": 20,
     "metadata": {},
     "output_type": "execute_result"
    }
   ],
   "source": [
    "angle_probs = q3_2(X,y,features=['Angle from Net'])\n",
    "angle_perc_df = get_percentile(X, y, angle_probs, features=['Angle from Net'])\n",
    "angle_perc_df.head(10)"
   ]
  },
  {
   "cell_type": "code",
   "execution_count": 21,
   "id": "fc4804f4-2fab-471d-9b3f-b1a4b1cce6ba",
   "metadata": {
    "tags": []
   },
   "outputs": [
    {
     "data": {
      "text/html": [
       "<div>\n",
       "<style scoped>\n",
       "    .dataframe tbody tr th:only-of-type {\n",
       "        vertical-align: middle;\n",
       "    }\n",
       "\n",
       "    .dataframe tbody tr th {\n",
       "        vertical-align: top;\n",
       "    }\n",
       "\n",
       "    .dataframe thead th {\n",
       "        text-align: right;\n",
       "    }\n",
       "</style>\n",
       "<table border=\"1\" class=\"dataframe\">\n",
       "  <thead>\n",
       "    <tr style=\"text-align: right;\">\n",
       "      <th></th>\n",
       "      <th>index</th>\n",
       "      <th>Goal prob</th>\n",
       "      <th>Is Goal</th>\n",
       "      <th>Percentile</th>\n",
       "    </tr>\n",
       "  </thead>\n",
       "  <tbody>\n",
       "    <tr>\n",
       "      <th>62217</th>\n",
       "      <td>5635</td>\n",
       "      <td>0.096208</td>\n",
       "      <td>1</td>\n",
       "      <td>99.991964</td>\n",
       "    </tr>\n",
       "    <tr>\n",
       "      <th>62218</th>\n",
       "      <td>30060</td>\n",
       "      <td>0.096239</td>\n",
       "      <td>0</td>\n",
       "      <td>99.993571</td>\n",
       "    </tr>\n",
       "    <tr>\n",
       "      <th>62219</th>\n",
       "      <td>43659</td>\n",
       "      <td>0.096307</td>\n",
       "      <td>0</td>\n",
       "      <td>99.995982</td>\n",
       "    </tr>\n",
       "    <tr>\n",
       "      <th>62220</th>\n",
       "      <td>42405</td>\n",
       "      <td>0.096307</td>\n",
       "      <td>0</td>\n",
       "      <td>99.995982</td>\n",
       "    </tr>\n",
       "    <tr>\n",
       "      <th>62221</th>\n",
       "      <td>49844</td>\n",
       "      <td>0.096354</td>\n",
       "      <td>0</td>\n",
       "      <td>99.998393</td>\n",
       "    </tr>\n",
       "  </tbody>\n",
       "</table>\n",
       "</div>"
      ],
      "text/plain": [
       "       index  Goal prob  Is Goal  Percentile\n",
       "62217   5635   0.096208        1   99.991964\n",
       "62218  30060   0.096239        0   99.993571\n",
       "62219  43659   0.096307        0   99.995982\n",
       "62220  42405   0.096307        0   99.995982\n",
       "62221  49844   0.096354        0   99.998393"
      ]
     },
     "execution_count": 21,
     "metadata": {},
     "output_type": "execute_result"
    }
   ],
   "source": [
    "angle_perc_df.tail()"
   ]
  },
  {
   "cell_type": "code",
   "execution_count": 22,
   "id": "d800f597-ec7b-4140-a347-9392defed214",
   "metadata": {
    "tags": []
   },
   "outputs": [
    {
     "data": {
      "text/html": [
       "<div>\n",
       "<style scoped>\n",
       "    .dataframe tbody tr th:only-of-type {\n",
       "        vertical-align: middle;\n",
       "    }\n",
       "\n",
       "    .dataframe tbody tr th {\n",
       "        vertical-align: top;\n",
       "    }\n",
       "\n",
       "    .dataframe thead th {\n",
       "        text-align: right;\n",
       "    }\n",
       "</style>\n",
       "<table border=\"1\" class=\"dataframe\">\n",
       "  <thead>\n",
       "    <tr style=\"text-align: right;\">\n",
       "      <th></th>\n",
       "      <th>Rate</th>\n",
       "      <th>Percentile</th>\n",
       "    </tr>\n",
       "  </thead>\n",
       "  <tbody>\n",
       "    <tr>\n",
       "      <th>0</th>\n",
       "      <td>6.072289</td>\n",
       "      <td>0</td>\n",
       "    </tr>\n",
       "    <tr>\n",
       "      <th>1</th>\n",
       "      <td>3.530733</td>\n",
       "      <td>10</td>\n",
       "    </tr>\n",
       "    <tr>\n",
       "      <th>2</th>\n",
       "      <td>3.545528</td>\n",
       "      <td>20</td>\n",
       "    </tr>\n",
       "    <tr>\n",
       "      <th>3</th>\n",
       "      <td>4.738510</td>\n",
       "      <td>30</td>\n",
       "    </tr>\n",
       "    <tr>\n",
       "      <th>4</th>\n",
       "      <td>6.247950</td>\n",
       "      <td>40</td>\n",
       "    </tr>\n",
       "    <tr>\n",
       "      <th>5</th>\n",
       "      <td>9.395973</td>\n",
       "      <td>50</td>\n",
       "    </tr>\n",
       "    <tr>\n",
       "      <th>6</th>\n",
       "      <td>12.275641</td>\n",
       "      <td>60</td>\n",
       "    </tr>\n",
       "    <tr>\n",
       "      <th>7</th>\n",
       "      <td>14.777849</td>\n",
       "      <td>70</td>\n",
       "    </tr>\n",
       "    <tr>\n",
       "      <th>8</th>\n",
       "      <td>15.883489</td>\n",
       "      <td>80</td>\n",
       "    </tr>\n",
       "    <tr>\n",
       "      <th>9</th>\n",
       "      <td>19.569754</td>\n",
       "      <td>90</td>\n",
       "    </tr>\n",
       "  </tbody>\n",
       "</table>\n",
       "</div>"
      ],
      "text/plain": [
       "        Rate  Percentile\n",
       "0   6.072289           0\n",
       "1   3.530733          10\n",
       "2   3.545528          20\n",
       "3   4.738510          30\n",
       "4   6.247950          40\n",
       "5   9.395973          50\n",
       "6  12.275641          60\n",
       "7  14.777849          70\n",
       "8  15.883489          80\n",
       "9  19.569754          90"
      ]
     },
     "execution_count": 22,
     "metadata": {},
     "output_type": "execute_result"
    }
   ],
   "source": [
    "def get_rate(df, function_type='goal_rate'):\n",
    "    '''\n",
    "    Divide the sorted df into 10 bins, each two adjacent bins have a difference of 10 on percentile.\n",
    "    As we noticed, the percentile ranges from 0 to 99.99, we set bin range from 0 to 100, \n",
    "    so, there are 10 bins: [0:10], [10:20], ..., [90:100].\n",
    "    Given function type, calculates the corresponding rate. \n",
    "    \n",
    "    :params df: A sorted percentile df, calculated by get_percentile().\n",
    "    :params function_type: Function type. Default value 'goal_rate'. \n",
    "                           Another option is 'cumulative_rate'.\n",
    "    \n",
    "    :return goal_rate_df: A df has shape (10, 2). First column is rate, second column is bin index. \n",
    "    '''\n",
    "    \n",
    "    # In goal_rate function, the list should have a length of 10, \n",
    "    # each item is the goal rate of that bin. \n",
    "    # For example, if there are 5000 records have percentiles between 0 and 10, \n",
    "    # and there are 250 goals, the goal rate is 250/5000=0.05.\n",
    "    # So, rate_list[0] is 0.05\n",
    "    rate_list = []\n",
    "    \n",
    "    # Find total number of goals\n",
    "    total_goals = df['Is Goal'].value_counts()[1]\n",
    "    \n",
    "    cumulative_counts = 0\n",
    "\n",
    "    i = 0\n",
    "    i_list = []\n",
    "    \n",
    "    # 91 is the lower bound of last bin\n",
    "    while i<92:\n",
    "        i_list.append(i)\n",
    "\n",
    "        # current bin size\n",
    "        lower_bound = i\n",
    "        upper_bound = (i+10)\n",
    "\n",
    "        # find all records that have percentiles fall in this range\n",
    "        rows = df[(df['Percentile']>=lower_bound) &\n",
    "                  (df['Percentile']<upper_bound)]\n",
    "        \n",
    "        # count the number of goals\n",
    "        goals = rows['Is Goal'].value_counts()[1]\n",
    "\n",
    "        shots = rows.shape[0]\n",
    "\n",
    "        if function_type == 'goal_rate':\n",
    "            rate = goals/shots\n",
    "            \n",
    "        elif function_type == 'cumulative_rate':\n",
    "            cumulative_counts += goals\n",
    "            rate = (cumulative_counts)/total_goals\n",
    "\n",
    "        rate_list.append(rate)\n",
    "\n",
    "        i+=10\n",
    "\n",
    "    rate_list = [i*100 for i in rate_list]    \n",
    "    \n",
    "    # Combine goal rate list and percentile list into one df\n",
    "    rate_df = pd.DataFrame(list(zip(rate_list, i_list)),\\\n",
    "                                columns=['Rate', 'Percentile'])\n",
    "    \n",
    "    return rate_df\n",
    "\n",
    "goal_rate_df = get_rate(perc_df)\n",
    "goal_rate_df"
   ]
  },
  {
   "cell_type": "code",
   "execution_count": 23,
   "id": "b330a270-e010-4918-abc7-473c5b508c54",
   "metadata": {
    "tags": []
   },
   "outputs": [
    {
     "data": {
      "image/png": "[encoded data removed]",
      "text/plain": [
       "<Figure size 432x288 with 1 Axes>"
      ]
     },
     "metadata": {
      "needs_background": "light"
     },
     "output_type": "display_data"
    }
   ],
   "source": [
    "def plot_baseline_rates(df, x, y, function_type='goal_rate'):\n",
    "    ax = plt.gca()\n",
    "    plt.plot(\n",
    "        df[x],\n",
    "        df[y],\n",
    "    )\n",
    "    ax.set_ylim([0,100])\n",
    "    ax.set_xlim([0,100])\n",
    "    \n",
    "    ax.legend(['Model 1'])\n",
    "    \n",
    "    plt.xlabel('Shot probability model percentile')\n",
    "    \n",
    "    if function_type == 'goal_rate':\n",
    "        plt.title('Goal Rate')\n",
    "        plt.ylabel('Goals/(Shots+Goals) in percentage')\n",
    "    \n",
    "    elif function_type == 'cumulative_rate':\n",
    "        plt.title('Cumulative % of goals')\n",
    "        plt.ylabel('Proportion')        \n",
    "    \n",
    "    plt.show()\n",
    "\n",
    "plot_baseline_rates(goal_rate_df, 'Percentile', 'Rate')"
   ]
  },
  {
   "cell_type": "code",
   "execution_count": 24,
   "id": "bf50e501-a5a7-40b8-9cb0-af01a92ee15f",
   "metadata": {
    "tags": []
   },
   "outputs": [
    {
     "data": {
      "image/png": "[encoded data removed]",
      "text/plain": [
       "<Figure size 432x288 with 1 Axes>"
      ]
     },
     "metadata": {
      "needs_background": "light"
     },
     "output_type": "display_data"
    }
   ],
   "source": [
    "cumulative_rate = get_rate(perc_df, function_type='cumulative_rate') \n",
    "plot_baseline_rates(cumulative_rate, 'Percentile', 'Rate', function_type='cumulative_rate')"
   ]
  },
  {
   "cell_type": "code",
   "execution_count": 25,
   "id": "4a81c77e-bea2-4f41-bfe8-c34788a6f99a",
   "metadata": {
    "tags": []
   },
   "outputs": [
    {
     "data": {
      "text/html": [
       "<div>\n",
       "<style scoped>\n",
       "    .dataframe tbody tr th:only-of-type {\n",
       "        vertical-align: middle;\n",
       "    }\n",
       "\n",
       "    .dataframe tbody tr th {\n",
       "        vertical-align: top;\n",
       "    }\n",
       "\n",
       "    .dataframe thead th {\n",
       "        text-align: right;\n",
       "    }\n",
       "</style>\n",
       "<table border=\"1\" class=\"dataframe\">\n",
       "  <thead>\n",
       "    <tr style=\"text-align: right;\">\n",
       "      <th></th>\n",
       "      <th>Rate</th>\n",
       "      <th>Percentile</th>\n",
       "    </tr>\n",
       "  </thead>\n",
       "  <tbody>\n",
       "    <tr>\n",
       "      <th>0</th>\n",
       "      <td>6.325301</td>\n",
       "      <td>0</td>\n",
       "    </tr>\n",
       "    <tr>\n",
       "      <th>1</th>\n",
       "      <td>10.006693</td>\n",
       "      <td>10</td>\n",
       "    </tr>\n",
       "    <tr>\n",
       "      <th>2</th>\n",
       "      <td>13.688086</td>\n",
       "      <td>20</td>\n",
       "    </tr>\n",
       "    <tr>\n",
       "      <th>3</th>\n",
       "      <td>18.691432</td>\n",
       "      <td>30</td>\n",
       "    </tr>\n",
       "    <tr>\n",
       "      <th>4</th>\n",
       "      <td>25.066934</td>\n",
       "      <td>40</td>\n",
       "    </tr>\n",
       "    <tr>\n",
       "      <th>5</th>\n",
       "      <td>34.906292</td>\n",
       "      <td>50</td>\n",
       "    </tr>\n",
       "    <tr>\n",
       "      <th>6</th>\n",
       "      <td>47.724230</td>\n",
       "      <td>60</td>\n",
       "    </tr>\n",
       "    <tr>\n",
       "      <th>7</th>\n",
       "      <td>63.085676</td>\n",
       "      <td>70</td>\n",
       "    </tr>\n",
       "    <tr>\n",
       "      <th>8</th>\n",
       "      <td>79.601740</td>\n",
       "      <td>80</td>\n",
       "    </tr>\n",
       "    <tr>\n",
       "      <th>9</th>\n",
       "      <td>100.000000</td>\n",
       "      <td>90</td>\n",
       "    </tr>\n",
       "  </tbody>\n",
       "</table>\n",
       "</div>"
      ],
      "text/plain": [
       "         Rate  Percentile\n",
       "0    6.325301           0\n",
       "1   10.006693          10\n",
       "2   13.688086          20\n",
       "3   18.691432          30\n",
       "4   25.066934          40\n",
       "5   34.906292          50\n",
       "6   47.724230          60\n",
       "7   63.085676          70\n",
       "8   79.601740          80\n",
       "9  100.000000          90"
      ]
     },
     "execution_count": 25,
     "metadata": {},
     "output_type": "execute_result"
    }
   ],
   "source": [
    "cumulative_rate"
   ]
  },
  {
   "cell_type": "code",
   "execution_count": 130,
   "id": "78de00f4-25ba-4209-9196-c0f286ddd6a2",
   "metadata": {},
   "outputs": [],
   "source": [
    "def plot_baseline_calibration(X, y, features=['Distance from Net']):\n",
    "    \n",
    "    fig = plt.figure(figsize=(10, 10))\n",
    "    gs = GridSpec(4, 2)\n",
    "\n",
    "    ax_calibration_curve = fig.add_subplot(gs[:2, :2])\n",
    "    \n",
    "    X_train, X_test, y_train, y_test = train_test_split(X[features], y, test_size=0.20, random_state=50)\n",
    "    \n",
    "    clf = LogisticRegression()\n",
    "    y_train = y_train.values.ravel()\n",
    "    clf.fit(X_train, y_train)\n",
    "    \n",
    "    display = CalibrationDisplay.from_estimator(\n",
    "        clf,\n",
    "        X_test,\n",
    "        y_test,\n",
    "        n_bins=50,\n",
    "        ax=ax_calibration_curve,\n",
    "        label=f'{features}'\n",
    "    )\n",
    "    \n",
    "    ax_calibration_curve.grid()\n",
    "    ax_calibration_curve.set_title(\"Calibration plot\")\n",
    "    plt.ylabel('Fraction of positives')\n",
    "    plt.xlabel('Mean predicted probability')\n",
    "    plt.show()"
   ]
  },
  {
   "cell_type": "code",
   "execution_count": 131,
   "id": "73a6d6f5-a36c-41f6-89fc-b8d19bb878a2",
   "metadata": {},
   "outputs": [
    {
     "data": {
      "image/png": "[encoded data removed]",
      "text/plain": [
       "<Figure size 720x720 with 1 Axes>"
      ]
     },
     "metadata": {
      "needs_background": "light"
     },
     "output_type": "display_data"
    }
   ],
   "source": [
    "plot_baseline_calibration(X, y)"
   ]
  },
  {
   "cell_type": "markdown",
   "id": "904d144a-6bad-4913-9e87-44e0a0ad9c35",
   "metadata": {},
   "source": [
    "# Question 3.3"
   ]
  },
  {
   "cell_type": "code",
   "execution_count": 156,
   "id": "786d04e8-fea5-4835-957c-777d49bd4abe",
   "metadata": {},
   "outputs": [],
   "source": [
    "from matplotlib.gridspec import GridSpec\n",
    "\n",
    "feature_color_dict = {\n",
    "    1: [['Distance from Net'], 'r'],\n",
    "    2: [['Angle from Net'], 'g'],\n",
    "    3: [['Distance from Net', 'Angle from Net'], 'plum'],\n",
    "    4: ['Random baseline', 'b']\n",
    "    }"
   ]
  },
  {
   "cell_type": "code",
   "execution_count": 157,
   "id": "d99170c4-c7a4-4050-8fcb-cc01c79e421e",
   "metadata": {
    "tags": []
   },
   "outputs": [],
   "source": [
    "def plot_roc(X, y, feature_color_dict):\n",
    "    fig = plt.figure(figsize=(10, 10))\n",
    "    gs = GridSpec(4, 2)\n",
    "\n",
    "    ax_calibration_curve = fig.add_subplot(gs[:2, :2])    \n",
    "\n",
    "    for k, v in feature_color_dict.items():\n",
    "        \n",
    "        features = v[0]\n",
    "        color = v[1]\n",
    "        \n",
    "        if features != 'Random baseline':\n",
    "            probs, y_test = q3_2(X, y, features)\n",
    "            is_goal_probs = probs[:, 1]                \n",
    "            curve_label = f'{features}'[2:-2] if len(features) == 1 else 'Distance and Angle from Net'\n",
    "\n",
    "        # Random baseline\n",
    "        else:\n",
    "            is_goal_probs = np.random.uniform(0, 1, is_goal_probs.shape[0])\n",
    "            curve_label = 'Random Baseline'\n",
    "\n",
    "        fpr, tpr, threshold = metrics.roc_curve(y_test, is_goal_probs)\n",
    "        \n",
    "        roc_auc = metrics.auc(fpr, tpr)\n",
    "        \n",
    "        plt.plot(fpr, \n",
    "                 tpr, \n",
    "                 color=color, \n",
    "                 label=f'{curve_label} '+'AUC = %0.2f' % roc_auc)      \n",
    "    \n",
    "    plt.axis([0, 1, 0, 1])    \n",
    "        \n",
    "    plt.title('ROC Curves')\n",
    "    plt.legend()\n",
    "    plt.ylabel('True Positive Rate')\n",
    "    plt.xlabel('False Positive Rate')\n",
    "    plt.grid(True)\n",
    "    \n",
    "# plot_roc(feature_color_dict)"
   ]
  },
  {
   "cell_type": "code",
   "execution_count": 158,
   "id": "fb9e457c-4ec6-40b5-92fb-6035bea1769f",
   "metadata": {
    "tags": []
   },
   "outputs": [],
   "source": [
    "def plot_goal_rate(X, y, feature_color_dict):\n",
    "    fig = plt.figure(figsize=(10, 10))\n",
    "    gs = GridSpec(4, 2)\n",
    "\n",
    "    ax_calibration_curve = fig.add_subplot(gs[:2, :2])    \n",
    "\n",
    "    for k, v in feature_color_dict.items():\n",
    "        \n",
    "        features = v[0]\n",
    "        color = v[1]\n",
    "        \n",
    "        if features != 'Random baseline':\n",
    "            probs, y_test = q3_2(X, y, features)\n",
    "            is_goal_probs = probs[:, 1]\n",
    "            perc_df = get_percentile(X, y, probs, features)\n",
    "            curve_label = f'{features}'[2:-2] if len(features) == 1 else 'Distance and Angle from Net'\n",
    "\n",
    "        # Random baseline\n",
    "        else:\n",
    "            is_goal_probs = np.random.uniform(0, 1, is_goal_probs.shape[0])\n",
    "            no_goal_prob = np.array([(1 - i) for i in is_goal_probs])\n",
    "            probs = np.column_stack((is_goal_probs, no_goal_prob))\n",
    "            perc_df = get_percentile(X, y, probs)\n",
    "            curve_label = 'Random Baseline'\n",
    "\n",
    "        goal_rate_df = get_rate(perc_df, function_type='goal_rate')\n",
    "        plt.plot(\n",
    "            goal_rate_df['Percentile']/100,\n",
    "            goal_rate_df['Rate']/100,\n",
    "            label=curve_label,\n",
    "            color = color\n",
    "        )   \n",
    "       \n",
    "    plt.title('Goal rate')\n",
    "    plt.legend()\n",
    "    plt.ylabel('Goal Rate')\n",
    "    plt.xlabel('Shot Probability Model Percentile')\n",
    "    plt.grid(True)\n",
    "    \n",
    "# plot_goal_rate(feature_color_dict)"
   ]
  },
  {
   "cell_type": "code",
   "execution_count": 159,
   "id": "997855aa-003b-414f-b142-9e11986fac1b",
   "metadata": {
    "tags": []
   },
   "outputs": [],
   "source": [
    "def plot_cumulative_rate(X, y, feature_color_dict):\n",
    "    \n",
    "    fig = plt.figure(figsize=(10, 10))\n",
    "    gs = GridSpec(4, 2)\n",
    "\n",
    "    ax_calibration_curve = fig.add_subplot(gs[:2, :2])\n",
    "    \n",
    "    for k, v in feature_color_dict.items():\n",
    "        \n",
    "        features = v[0]\n",
    "        color = v[1]\n",
    "\n",
    "        if features != 'Random baseline':\n",
    "            probs, y_test = q3_2(X, y, features)\n",
    "            is_goal_probs = probs[:,1]   \n",
    "            perc_df = get_percentile(X, y, probs, features)\n",
    "            curve_label = f'{features}'[2:-2] if len(features) == 1 else 'Distance and Angle from Net'\n",
    "\n",
    "        # Random baseline\n",
    "        else:\n",
    "            is_goal_probs = np.random.uniform(0,1,is_goal_probs.shape[0])\n",
    "            no_goal_prob = np.array([(1-i) for i in is_goal_probs])\n",
    "            probs = np.column_stack((is_goal_probs, no_goal_prob))\n",
    "            perc_df = get_percentile(X, y, probs)\n",
    "            curve_label = 'Random Baseline'\n",
    "            \n",
    "        cumulative_rate = get_rate(perc_df, function_type='cumulative_rate') \n",
    "        \n",
    "        plt.plot(\n",
    "            cumulative_rate['Percentile']/100,\n",
    "            cumulative_rate['Rate']/100,\n",
    "            label = curve_label,\n",
    "            color = color,\n",
    "        )  \n",
    "   \n",
    "    # plt.title('Cumulative goal rate')\n",
    "    plt.title('Cumulative Proportion of Goals')\n",
    "    plt.legend()\n",
    "    plt.ylabel('Cumulative Proportion of Goals')\n",
    "    plt.xlabel('Shot Probability Model Percentile')\n",
    "    plt.grid(True)\n",
    "    \n",
    "# plot_cumulative_rate(feature_color_dict)"
   ]
  },
  {
   "cell_type": "code",
   "execution_count": 160,
   "id": "5f418ac8-0418-44e0-8735-71505cfa492f",
   "metadata": {
    "tags": []
   },
   "outputs": [],
   "source": [
    "def plot_calibration(X, y, feature_color_dict):\n",
    "    '''\n",
    "    https://scikit-learn.org/stable/auto_examples/calibration/plot_calibration_curve.html\n",
    "    '''\n",
    "\n",
    "    fig = plt.figure(figsize=(10, 10))\n",
    "    gs = GridSpec(4, 2)\n",
    "\n",
    "    ax_calibration_curve = fig.add_subplot(gs[:2, :2])\n",
    "\n",
    "    for k, v in feature_color_dict.items():\n",
    "        \n",
    "        features = v[0]\n",
    "        color = v[1]\n",
    "        \n",
    "        if features != 'Random baseline':\n",
    "            X_train, X_test, y_train, y_test = train_test_split(X[features], y, test_size=0.20, random_state=50)\n",
    "            clf = LogisticRegression()\n",
    "            y_train = y_train.values.ravel()\n",
    "            clf.fit(X_train, y_train)\n",
    "            curve_label = f'{features}'[2:-2] if len(features) == 1 else 'Distance and Angle from Net'\n",
    "        \n",
    "        # Random baseline\n",
    "        else:\n",
    "            goal_prob = np.random.uniform(0, 1, X_test.shape[0])\n",
    "            \n",
    "            # Value is 1 if goal_prob is greater than 0.5, 0 otherwise.\n",
    "            y_test = np.zeros((goal_prob.shape[0],1))\n",
    "            y_test[:,][np.where(goal_prob>0.5)]=1\n",
    "            curve_label = 'Random Baseline'\n",
    "\n",
    "        display = CalibrationDisplay.from_estimator(\n",
    "                clf,\n",
    "                X_test,\n",
    "                y_test,\n",
    "                n_bins=50,\n",
    "                ax=ax_calibration_curve,\n",
    "                color=color,\n",
    "                label=curve_label\n",
    "            )\n",
    "    \n",
    "    ax_calibration_curve.grid()\n",
    "    ax_calibration_curve.set_title(\"Calibration plots\")\n",
    "    plt.ylabel('Fraction of positives')\n",
    "    plt.xlabel('Mean predicted probability')\n",
    "    plt.show()\n",
    "    \n",
    "     \n",
    "# plot_calibration(feature_color_dict)"
   ]
  },
  {
   "cell_type": "code",
   "execution_count": 161,
   "id": "aa62a2fc-6765-4ccc-a0b2-56a37f4fdfa1",
   "metadata": {
    "tags": []
   },
   "outputs": [
    {
     "data": {
      "image/png": "[encoded data removed]",
      "text/plain": [
       "<Figure size 720x720 with 1 Axes>"
      ]
     },
     "metadata": {
      "needs_background": "light"
     },
     "output_type": "display_data"
    },
    {
     "data": {
      "image/png": "[encoded data removed]",
      "text/plain": [
       "<Figure size 720x720 with 1 Axes>"
      ]
     },
     "metadata": {
      "needs_background": "light"
     },
     "output_type": "display_data"
    },
    {
     "data": {
      "image/png": "[encoded data removed]",
      "text/plain": [
       "<Figure size 720x720 with 1 Axes>"
      ]
     },
     "metadata": {
      "needs_background": "light"
     },
     "output_type": "display_data"
    },
    {
     "data": {
      "image/png": "[encoded data removed]",
      "text/plain": [
       "<Figure size 720x720 with 1 Axes>"
      ]
     },
     "metadata": {
      "needs_background": "light"
     },
     "output_type": "display_data"
    }
   ],
   "source": [
    "# ==========================================================================================\n",
    "# Question 3.3:\n",
    "# https://piazza.com/class/krgt4sfrgfp278?cid=261\n",
    "# ==========================================================================================\n",
    "def logistic_reg(X, y):\n",
    "\n",
    "    # feature_color_dict = {\n",
    "    #     1: [['Distance from Net'], 'r'],\n",
    "    #     2: [['Angle from Net'], 'g'],\n",
    "    #     3: [['Distance from Net', 'Angle from Net'], 'plum'],\n",
    "    #     4: ['Random baseline', 'b']\n",
    "    #     }\n",
    "    \n",
    "    #--------------------------------------\n",
    "    # ROC\n",
    "    #--------------------------------------\n",
    "    plot_roc(X, y, feature_color_dict)\n",
    "    plt.show()\n",
    "    \n",
    "    #--------------------------------------\n",
    "    # Goal rate\n",
    "    #--------------------------------------  \n",
    "    plot_goal_rate(X, y, feature_color_dict)\n",
    "    plt.show()\n",
    "    \n",
    "    #--------------------------------------\n",
    "    # Cumulative proportion of goals\n",
    "    #--------------------------------------  \n",
    "    plot_cumulative_rate(X, y, feature_color_dict)\n",
    "    plt.show()\n",
    "    \n",
    "    #--------------------------------------\n",
    "    # Calibration\n",
    "    #-------------------------------------- \n",
    "    plot_calibration(X, y, feature_color_dict)\n",
    "    plt.show()\n",
    "\n",
    "    \n",
    "logistic_reg(X, y)"
   ]
  },
  {
   "cell_type": "code",
   "execution_count": 92,
   "id": "b415659d-c9ec-4595-ad48-28a1714d6803",
   "metadata": {
    "tags": []
   },
   "outputs": [
    {
     "ename": "TypeError",
     "evalue": "logistic_reg() got an unexpected keyword argument 'features'",
     "output_type": "error",
     "traceback": [
      "\u001b[0;31m---------------------------------------------------------------------------\u001b[0m",
      "\u001b[0;31mTypeError\u001b[0m                                 Traceback (most recent call last)",
      "\u001b[0;32m/var/folders/r1/g6g5ylnd3l5fdc1tyq1k0v4c0000gn/T/ipykernel_4237/3627088803.py\u001b[0m in \u001b[0;36m<module>\u001b[0;34m\u001b[0m\n\u001b[0;32m----> 1\u001b[0;31m \u001b[0mangle_only\u001b[0m \u001b[0;34m=\u001b[0m \u001b[0mlogistic_reg\u001b[0m\u001b[0;34m(\u001b[0m\u001b[0mX\u001b[0m\u001b[0;34m,\u001b[0m \u001b[0my\u001b[0m\u001b[0;34m,\u001b[0m \u001b[0mfeatures\u001b[0m\u001b[0;34m=\u001b[0m\u001b[0;34m[\u001b[0m\u001b[0;34m'Angle from Net'\u001b[0m\u001b[0;34m]\u001b[0m\u001b[0;34m)\u001b[0m\u001b[0;34m\u001b[0m\u001b[0;34m\u001b[0m\u001b[0m\n\u001b[0m",
      "\u001b[0;31mTypeError\u001b[0m: logistic_reg() got an unexpected keyword argument 'features'"
     ]
    }
   ],
   "source": [
    "angle_only = logistic_reg(X, y, features=['Angle from Net'])"
   ]
  },
  {
   "cell_type": "code",
   "execution_count": 287,
   "id": "f1863e84-3577-4139-8fef-5fd5ba64ceab",
   "metadata": {
    "collapsed": true,
    "jupyter": {
     "outputs_hidden": true
    },
    "tags": []
   },
   "outputs": [
    {
     "data": {
      "image/png": "[encoded data removed]",
      "text/plain": [
       "<Figure size 432x288 with 1 Axes>"
      ]
     },
     "metadata": {
      "needs_background": "light"
     },
     "output_type": "display_data"
    }
   ],
   "source": [
    "both_features = logistic_reg(X, y, features=['Distance from Net', 'Angle from Net'])"
   ]
  },
  {
   "cell_type": "code",
   "execution_count": 108,
   "id": "fe9d3b72-4af9-471d-8c78-86a30103b47d",
   "metadata": {},
   "outputs": [
    {
     "data": {
      "text/plain": [
       "array([0.38609937, 0.46041526, 0.16761943, 0.18427002, 0.92338808,\n",
       "       0.86909476, 0.88505479, 0.69545121, 0.40697542, 0.55018635])"
      ]
     },
     "execution_count": 108,
     "metadata": {},
     "output_type": "execute_result"
    }
   ],
   "source": [
    "goal_prob = np.random.uniform(0,1,10)\n",
    "goal_prob"
   ]
  },
  {
   "cell_type": "code",
   "execution_count": 109,
   "id": "87286ef7-4abc-4213-9fcc-ce827a9f50f0",
   "metadata": {},
   "outputs": [
    {
     "data": {
      "text/plain": [
       "array([0.61390063, 0.53958474, 0.83238057, 0.81572998, 0.07661192,\n",
       "       0.13090524, 0.11494521, 0.30454879, 0.59302458, 0.44981365])"
      ]
     },
     "execution_count": 109,
     "metadata": {},
     "output_type": "execute_result"
    }
   ],
   "source": [
    "no_goal_prob = np.array([(1-i) for i in goal_prob])\n",
    "no_goal_prob"
   ]
  },
  {
   "cell_type": "code",
   "execution_count": 116,
   "id": "47cf57a9-6206-4a37-b788-664afc0cd802",
   "metadata": {},
   "outputs": [
    {
     "data": {
      "text/plain": [
       "array([[0.38609937, 0.61390063],\n",
       "       [0.46041526, 0.53958474],\n",
       "       [0.16761943, 0.83238057],\n",
       "       [0.18427002, 0.81572998],\n",
       "       [0.92338808, 0.07661192],\n",
       "       [0.86909476, 0.13090524],\n",
       "       [0.88505479, 0.11494521],\n",
       "       [0.69545121, 0.30454879],\n",
       "       [0.40697542, 0.59302458],\n",
       "       [0.55018635, 0.44981365]])"
      ]
     },
     "execution_count": 116,
     "metadata": {},
     "output_type": "execute_result"
    }
   ],
   "source": [
    "random_probs = np.column_stack((goal_prob,no_goal_prob))\n",
    "random_probs"
   ]
  },
  {
   "cell_type": "code",
   "execution_count": 176,
   "id": "c8071b63-86b9-42b3-ad13-c9d4686e8280",
   "metadata": {},
   "outputs": [
    {
     "data": {
      "text/plain": [
       "array([0.9015724 , 0.68400757, 0.62485779, ..., 0.25900943, 0.53653008,\n",
       "       0.26741253])"
      ]
     },
     "execution_count": 176,
     "metadata": {},
     "output_type": "execute_result"
    }
   ],
   "source": [
    "goal_prob = np.random.uniform(0,1,X_test.shape[0])\n",
    "goal_prob"
   ]
  },
  {
   "cell_type": "code",
   "execution_count": 177,
   "id": "e3eee3ff-4ee2-4851-b1a0-0f6f1b28a044",
   "metadata": {},
   "outputs": [
    {
     "data": {
      "text/plain": [
       "0.9015724033510861"
      ]
     },
     "execution_count": 177,
     "metadata": {},
     "output_type": "execute_result"
    }
   ],
   "source": [
    "goal_prob[0]"
   ]
  },
  {
   "cell_type": "code",
   "execution_count": 182,
   "id": "c3541bb4-d62c-4047-b5b4-5eaa075bc26d",
   "metadata": {},
   "outputs": [],
   "source": [
    "# Value is 1 if goal_prob is greater than 0.5, 0 otherwise.\n",
    "random_y_test = np.zeros((goal_prob.shape[0],1))\n",
    "random_y_test[:,][np.where(goal_prob>0.5)]=1"
   ]
  },
  {
   "cell_type": "code",
   "execution_count": 183,
   "id": "a7daf90b-263d-4f0c-b815-b0e25c573eeb",
   "metadata": {},
   "outputs": [
    {
     "data": {
      "text/plain": [
       "array([[1.],\n",
       "       [1.],\n",
       "       [1.],\n",
       "       ...,\n",
       "       [0.],\n",
       "       [1.],\n",
       "       [0.]])"
      ]
     },
     "execution_count": 183,
     "metadata": {},
     "output_type": "execute_result"
    }
   ],
   "source": [
    "random_y_test"
   ]
  },
  {
   "cell_type": "code",
   "execution_count": null,
   "id": "c9190a0a-b777-48f0-b59b-972f72582a52",
   "metadata": {},
   "outputs": [],
   "source": [
    "# ==========================================================================================\n",
    "# comet.ml set up\n",
    "# =========================================================================================="
   ]
  },
  {
   "cell_type": "markdown",
   "id": "a6dc8499-a082-480d-afbb-2af53b99905c",
   "metadata": {},
   "source": [
    "1. Install comet_ml: `pip install comet_ml`"
   ]
  },
  {
   "cell_type": "markdown",
   "id": "fa389a31-d7e4-4b95-8ede-b61e5c5dfb0c",
   "metadata": {},
   "source": [
    "2. Save comet API as an environment variable\n",
    "\n",
    "- Open a terminal and ```vim ~/.zshrc```\n",
    "- Add API key by \n",
    "    - Enter editing mode: `i`\n",
    "    - Paste the API variable: `export COMET_API_KEY = *** `\n",
    "    - Save and quit: click 'esc' and enter `:wq`\n",
    "- Reference: \n",
    "    - https://medium.com/@himanshuagarwal1395/setting-up-environment-variables-in-macos-sierra-f5978369b255\n",
    "    - https://vim.rtorr.com/"
   ]
  },
  {
   "cell_type": "markdown",
   "id": "4a84df85-3c36-4c3b-8904-89693c0e9f64",
   "metadata": {},
   "source": [
    "3. 'ctrl+c' quit jupyter lab, enter `source ~/.zshrc`"
   ]
  },
  {
   "cell_type": "markdown",
   "id": "a0676237-5d4b-4ff3-ab4c-b0d1080ab1a1",
   "metadata": {},
   "source": [
    "4. Repoen the terminal ad check if the environment variable is here: `echo $COMET_API_KEY`"
   ]
  },
  {
   "cell_type": "code",
   "execution_count": 3,
   "id": "8d9c7dbe-aa64-40f8-83d9-12244436732c",
   "metadata": {},
   "outputs": [],
   "source": [
    "from comet_ml import Experiment\n",
    "import os"
   ]
  },
  {
   "cell_type": "code",
   "execution_count": 5,
   "id": "e49a6dc2-3801-4466-81cc-260553c70856",
   "metadata": {
    "collapsed": true,
    "jupyter": {
     "outputs_hidden": true
    },
    "tags": []
   },
   "outputs": [
    {
     "name": "stderr",
     "output_type": "stream",
     "text": [
      "COMET INFO: ---------------------------\n",
      "COMET INFO: Comet.ml Experiment Summary\n",
      "COMET INFO: ---------------------------\n",
      "COMET INFO:   Data:\n",
      "COMET INFO:     display_summary_level : 1\n",
      "COMET INFO:     url                   : https://www.comet.ml/xiaoxin-zhou/milestone-2/1cfdca45897a4abfb759e743333770ff\n",
      "COMET INFO:   Uploads:\n",
      "COMET INFO:     environment details      : 1\n",
      "COMET INFO:     filename                 : 1\n",
      "COMET INFO:     git metadata             : 1\n",
      "COMET INFO:     git-patch (uncompressed) : 1 (3.11 KB)\n",
      "COMET INFO:     installed packages       : 1\n",
      "COMET INFO:     notebook                 : 1\n",
      "COMET INFO:     source_code              : 1\n",
      "COMET INFO: ---------------------------\n",
      "COMET WARNING: As you are running in a Jupyter environment, you will need to call `experiment.end()` when finished to ensure all metrics and code are logged before exiting.\n",
      "COMET INFO: Experiment is live on comet.ml https://www.comet.ml/xiaoxin-zhou/milestone-2/835c4fbb237f46caa90ba44f05c971c2\n",
      "\n",
      "COMET ERROR: Experiment.log_model() requires a file or folder\n",
      "COMET INFO: ---------------------------\n",
      "COMET INFO: Comet.ml Experiment Summary\n",
      "COMET INFO: ---------------------------\n",
      "COMET INFO:   Data:\n",
      "COMET INFO:     display_summary_level : 1\n",
      "COMET INFO:     url                   : https://www.comet.ml/xiaoxin-zhou/milestone-2/835c4fbb237f46caa90ba44f05c971c2\n",
      "COMET INFO:   Uploads:\n",
      "COMET INFO:     environment details      : 1\n",
      "COMET INFO:     filename                 : 1\n",
      "COMET INFO:     git metadata             : 1\n",
      "COMET INFO:     git-patch (uncompressed) : 1 (4.89 KB)\n",
      "COMET INFO:     installed packages       : 1\n",
      "COMET INFO:     notebook                 : 1\n",
      "COMET INFO:     source_code              : 1\n",
      "COMET INFO: ---------------------------\n",
      "COMET INFO: Uploading metrics, params, and assets to Comet before program termination (may take several seconds)\n",
      "COMET INFO: The Python SDK has 3600 seconds to finish before aborting...\n",
      "COMET INFO: Waiting for completion of the file uploads (may take several seconds)\n",
      "COMET INFO: The Python SDK has 10800 seconds to finish before aborting...\n",
      "COMET INFO: Still uploading 3 file(s), remaining 2.38 KB/4.32 KB\n"
     ]
    }
   ],
   "source": [
    "exp = Experiment(\n",
    "    api_key = os.environ.get(\"COMET_API_KEY\"),\n",
    "    project_name = 'milestone_2',\n",
    "    workspace='xiaoxin-zhou')\n",
    "\n",
    "exp.log_model('distance', 'q3/distance.pickle')\n",
    "\n",
    "# required in Jupyter environment\n",
    "exp.end()\n",
    "# exp.log_model('angle')\n",
    "# exp.log_model('distance_angle')"
   ]
  },
  {
   "cell_type": "code",
   "execution_count": 3,
   "id": "739db1bc-79e1-4c22-82b2-1b8b065392f2",
   "metadata": {
    "tags": []
   },
   "outputs": [],
   "source": []
  }
 ],
 "metadata": {
  "kernelspec": {
   "display_name": "Python 3 (ipykernel)",
   "language": "python",
   "name": "python3"
  },
  "language_info": {
   "codemirror_mode": {
    "name": "ipython",
    "version": 3
   },
   "file_extension": ".py",
   "mimetype": "text/x-python",
   "name": "python",
   "nbconvert_exporter": "python",
   "pygments_lexer": "ipython3",
   "version": "3.9.7"
  }
 },
 "nbformat": 4,
 "nbformat_minor": 5
}
